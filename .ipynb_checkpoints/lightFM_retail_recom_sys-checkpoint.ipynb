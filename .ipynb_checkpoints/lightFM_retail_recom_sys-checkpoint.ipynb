{
 "cells": [
  {
   "cell_type": "code",
   "execution_count": 1,
   "metadata": {},
   "outputs": [],
   "source": [
    "import pandas as pd\n",
    "import scipy.sparse as sparse\n",
    "import numpy as np\n",
    "from scipy.sparse.linalg import spsolve"
   ]
  },
  {
   "cell_type": "code",
   "execution_count": 2,
   "metadata": {},
   "outputs": [
    {
     "data": {
      "text/html": [
       "<div>\n",
       "<style scoped>\n",
       "    .dataframe tbody tr th:only-of-type {\n",
       "        vertical-align: middle;\n",
       "    }\n",
       "\n",
       "    .dataframe tbody tr th {\n",
       "        vertical-align: top;\n",
       "    }\n",
       "\n",
       "    .dataframe thead th {\n",
       "        text-align: right;\n",
       "    }\n",
       "</style>\n",
       "<table border=\"1\" class=\"dataframe\">\n",
       "  <thead>\n",
       "    <tr style=\"text-align: right;\">\n",
       "      <th></th>\n",
       "      <th>CustomerID</th>\n",
       "      <th>StockCode</th>\n",
       "      <th>Quantity</th>\n",
       "    </tr>\n",
       "  </thead>\n",
       "  <tbody>\n",
       "    <tr>\n",
       "      <th>0</th>\n",
       "      <td>12346</td>\n",
       "      <td>23166</td>\n",
       "      <td>1</td>\n",
       "    </tr>\n",
       "    <tr>\n",
       "      <th>1</th>\n",
       "      <td>12347</td>\n",
       "      <td>16008</td>\n",
       "      <td>24</td>\n",
       "    </tr>\n",
       "    <tr>\n",
       "      <th>2</th>\n",
       "      <td>12347</td>\n",
       "      <td>17021</td>\n",
       "      <td>36</td>\n",
       "    </tr>\n",
       "    <tr>\n",
       "      <th>3</th>\n",
       "      <td>12347</td>\n",
       "      <td>20665</td>\n",
       "      <td>6</td>\n",
       "    </tr>\n",
       "    <tr>\n",
       "      <th>4</th>\n",
       "      <td>12347</td>\n",
       "      <td>20719</td>\n",
       "      <td>40</td>\n",
       "    </tr>\n",
       "  </tbody>\n",
       "</table>\n",
       "</div>"
      ],
      "text/plain": [
       "   CustomerID StockCode  Quantity\n",
       "0       12346     23166         1\n",
       "1       12347     16008        24\n",
       "2       12347     17021        36\n",
       "3       12347     20665         6\n",
       "4       12347     20719        40"
      ]
     },
     "execution_count": 2,
     "metadata": {},
     "output_type": "execute_result"
    }
   ],
   "source": [
    "grouped_purchased = pd.read_csv('cvs_data_file/online-retail.csv', header = 0)\n",
    "grouped_purchased.head()"
   ]
  },
  {
   "cell_type": "code",
   "execution_count": 3,
   "metadata": {},
   "outputs": [
    {
     "name": "stderr",
     "output_type": "stream",
     "text": [
      "C:\\ProgramData\\Anaconda3\\lib\\site-packages\\ipykernel_launcher.py:5: FutureWarning: specifying 'categories' or 'ordered' in .astype() is deprecated; pass a CategoricalDtype instead\n",
      "  \"\"\"\n",
      "C:\\ProgramData\\Anaconda3\\lib\\site-packages\\ipykernel_launcher.py:7: FutureWarning: specifying 'categories' or 'ordered' in .astype() is deprecated; pass a CategoricalDtype instead\n",
      "  import sys\n"
     ]
    }
   ],
   "source": [
    "customers = list(np.sort(grouped_purchased.CustomerID.unique())) # Get our unique customers\n",
    "products = list(grouped_purchased.StockCode.unique()) # Get our unique products that were purchased\n",
    "quantity = list(grouped_purchased.Quantity) # All of our purchases\n",
    "\n",
    "rows = grouped_purchased.CustomerID.astype('category', categories = customers).cat.codes \n",
    "# Get the associated row indices\n",
    "cols = grouped_purchased.StockCode.astype('category', categories = products).cat.codes \n",
    "# Get the associated column indices\n",
    "purchases_sparse = sparse.csr_matrix((quantity, (rows, cols)), shape=(len(customers), len(products)))"
   ]
  },
  {
   "cell_type": "code",
   "execution_count": 4,
   "metadata": {},
   "outputs": [
    {
     "data": {
      "text/plain": [
       "<4338x3664 sparse matrix of type '<class 'numpy.int32'>'\n",
       "\twith 266723 stored elements in Compressed Sparse Row format>"
      ]
     },
     "execution_count": 4,
     "metadata": {},
     "output_type": "execute_result"
    }
   ],
   "source": [
    "purchases_sparse"
   ]
  },
  {
   "cell_type": "code",
   "execution_count": 5,
   "metadata": {},
   "outputs": [
    {
     "data": {
      "text/plain": [
       "98.32190920694744"
      ]
     },
     "execution_count": 5,
     "metadata": {},
     "output_type": "execute_result"
    }
   ],
   "source": [
    "matrix_size = purchases_sparse.shape[0]*purchases_sparse.shape[1] # Number of possible interactions in the matrix\n",
    "num_purchases = len(purchases_sparse.nonzero()[0]) # Number of items interacted with\n",
    "sparsity = 100*(1 - (num_purchases/matrix_size))\n",
    "sparsity"
   ]
  },
  {
   "cell_type": "code",
   "execution_count": 6,
   "metadata": {},
   "outputs": [],
   "source": [
    "import random"
   ]
  },
  {
   "cell_type": "code",
   "execution_count": 7,
   "metadata": {},
   "outputs": [],
   "source": [
    "def make_train(ratings, pct_test = 0.2):\n",
    "    '''\n",
    "    This function will take in the original user-item matrix and \"mask\" a percentage of the original ratings where a\n",
    "    user-item interaction has taken place for use as a test set. The test set will contain all of the original ratings, \n",
    "    while the training set replaces the specified percentage of them with a zero in the original ratings matrix. \n",
    "    \n",
    "    parameters: \n",
    "    \n",
    "    ratings - the original ratings matrix from which you want to generate a train/test set. Test is just a complete\n",
    "    copy of the original set. This is in the form of a sparse csr_matrix. \n",
    "    \n",
    "    pct_test - The percentage of user-item interactions where an interaction took place that you want to mask in the \n",
    "    training set for later comparison to the test set, which contains all of the original ratings. \n",
    "    \n",
    "    returns:\n",
    "    \n",
    "    training_set - The altered version of the original data with a certain percentage of the user-item pairs \n",
    "    that originally had interaction set back to zero.\n",
    "    \n",
    "    test_set - A copy of the original ratings matrix, unaltered, so it can be used to see how the rank order \n",
    "    compares with the actual interactions.\n",
    "    \n",
    "    user_inds - From the randomly selected user-item indices, which user rows were altered in the training data.\n",
    "    This will be necessary later when evaluating the performance via AUC.\n",
    "    '''\n",
    "    test_set = ratings.copy() # Make a copy of the original set to be the test set. \n",
    "    test_set[test_set != 0] = 1 # Store the test set as a binary preference matrix\n",
    "    training_set = ratings.copy() # Make a copy of the original data we can alter as our training set. \n",
    "    nonzero_inds = training_set.nonzero() # Find the indices in the ratings data where an interaction exists\n",
    "    nonzero_pairs = list(zip(nonzero_inds[0], nonzero_inds[1])) # Zip these pairs together of user,item index into list\n",
    "    random.seed(0) # Set the random seed to zero for reproducibility\n",
    "    num_samples = int(np.ceil(pct_test*len(nonzero_pairs))) # Round the number of samples needed to the nearest integer\n",
    "    samples = random.sample(nonzero_pairs, num_samples) # Sample a random number of user-item pairs without replacement\n",
    "    user_inds = [index[0] for index in samples] # Get the user row indices\n",
    "    item_inds = [index[1] for index in samples] # Get the item column indices\n",
    "    training_set[user_inds, item_inds] = 0 # Assign all of the randomly chosen user-item pairs to zero\n",
    "    training_set.eliminate_zeros() # Get rid of zeros in sparse array storage after update to save space\n",
    "    return training_set, test_set, list(set(user_inds)) # Output the unique list of user rows that were altered  "
   ]
  },
  {
   "cell_type": "code",
   "execution_count": 8,
   "metadata": {},
   "outputs": [],
   "source": [
    "product_train, product_test, product_users_altered = make_train(purchases_sparse, pct_test = 0.2)"
   ]
  },
  {
   "cell_type": "code",
   "execution_count": 9,
   "metadata": {},
   "outputs": [
    {
     "data": {
      "text/plain": [
       "<4338x3664 sparse matrix of type '<class 'numpy.int32'>'\n",
       "\twith 213378 stored elements in Compressed Sparse Row format>"
      ]
     },
     "execution_count": 9,
     "metadata": {},
     "output_type": "execute_result"
    }
   ],
   "source": [
    "product_train"
   ]
  },
  {
   "cell_type": "code",
   "execution_count": 10,
   "metadata": {},
   "outputs": [
    {
     "data": {
      "text/html": [
       "<div>\n",
       "<style scoped>\n",
       "    .dataframe tbody tr th:only-of-type {\n",
       "        vertical-align: middle;\n",
       "    }\n",
       "\n",
       "    .dataframe tbody tr th {\n",
       "        vertical-align: top;\n",
       "    }\n",
       "\n",
       "    .dataframe thead th {\n",
       "        text-align: right;\n",
       "    }\n",
       "</style>\n",
       "<table border=\"1\" class=\"dataframe\">\n",
       "  <thead>\n",
       "    <tr style=\"text-align: right;\">\n",
       "      <th></th>\n",
       "      <th>StockCode</th>\n",
       "      <th>Description</th>\n",
       "    </tr>\n",
       "  </thead>\n",
       "  <tbody>\n",
       "    <tr>\n",
       "      <th>0</th>\n",
       "      <td>85123A</td>\n",
       "      <td>WHITE HANGING HEART T-LIGHT HOLDER</td>\n",
       "    </tr>\n",
       "    <tr>\n",
       "      <th>1</th>\n",
       "      <td>71053</td>\n",
       "      <td>WHITE METAL LANTERN</td>\n",
       "    </tr>\n",
       "    <tr>\n",
       "      <th>2</th>\n",
       "      <td>84406B</td>\n",
       "      <td>CREAM CUPID HEARTS COAT HANGER</td>\n",
       "    </tr>\n",
       "    <tr>\n",
       "      <th>3</th>\n",
       "      <td>84029G</td>\n",
       "      <td>KNITTED UNION FLAG HOT WATER BOTTLE</td>\n",
       "    </tr>\n",
       "    <tr>\n",
       "      <th>4</th>\n",
       "      <td>84029E</td>\n",
       "      <td>RED WOOLLY HOTTIE WHITE HEART.</td>\n",
       "    </tr>\n",
       "  </tbody>\n",
       "</table>\n",
       "</div>"
      ],
      "text/plain": [
       "  StockCode                          Description\n",
       "0    85123A   WHITE HANGING HEART T-LIGHT HOLDER\n",
       "1     71053                  WHITE METAL LANTERN\n",
       "2    84406B       CREAM CUPID HEARTS COAT HANGER\n",
       "3    84029G  KNITTED UNION FLAG HOT WATER BOTTLE\n",
       "4    84029E       RED WOOLLY HOTTIE WHITE HEART."
      ]
     },
     "execution_count": 10,
     "metadata": {},
     "output_type": "execute_result"
    }
   ],
   "source": [
    "item_lookup = pd.read_csv('cvs_data_file/item_lookup.csv', header = 0)\n",
    "item_lookup.head()"
   ]
  },
  {
   "cell_type": "code",
   "execution_count": 11,
   "metadata": {},
   "outputs": [
    {
     "name": "stderr",
     "output_type": "stream",
     "text": [
      "C:\\ProgramData\\Anaconda3\\lib\\site-packages\\lightfm\\_lightfm_fast.py:9: UserWarning: LightFM was compiled without OpenMP support. Only a single thread will be used.\n",
      "  warnings.warn('LightFM was compiled without OpenMP support. '\n"
     ]
    },
    {
     "name": "stdout",
     "output_type": "stream",
     "text": [
      "Precision: train 0.27, test 0.34.\n",
      "AUC: train 0.91, test 0.90.\n"
     ]
    }
   ],
   "source": [
    "from lightfm import LightFM\n",
    "from lightfm.evaluation import precision_at_k,auc_score\n",
    "\n",
    "\n",
    "# Instantiate and train the model\n",
    "model = LightFM(loss='warp')\n",
    "model.fit(product_train, epochs=40, num_threads=2)\n",
    "\n",
    "# Evaluate the trained model\n",
    "test_precision = precision_at_k(model,product_test, k=5).mean()\n",
    "train_precision = precision_at_k(model, product_train, k=10).mean()\n",
    "\n",
    "train_auc = auc_score(model, product_train).mean()\n",
    "test_auc = auc_score(model, product_test).mean()\n",
    "\n",
    "print('Precision: train %.2f, test %.2f.' % (train_precision, test_precision))\n",
    "print('AUC: train %.2f, test %.2f.' % (train_auc, test_auc))\n"
   ]
  },
  {
   "cell_type": "code",
   "execution_count": 12,
   "metadata": {},
   "outputs": [
    {
     "name": "stdout",
     "output_type": "stream",
     "text": [
      "                              Description\n",
      "314    LOVEBIRD HANGING DECORATION WHITE \n",
      "396     RIBBON REEL CHRISTMAS SOCK BAUBLE\n",
      "450       CERAMIC PIRATE CHEST MONEY BANK\n",
      "625   CREAM SLICE FLANNEL CHOCOLATE SPOT \n",
      "825    MAGNETS PACK OF 4 CHILDHOOD MEMORY\n",
      "831                OFFICE MUG WARMER PINK\n",
      "844    WOOD STOCKING CHRISTMAS SCANDISPOT\n",
      "845         SET OF 4 NAPKIN CHARMS HEARTS\n",
      "881                    FINE WICKER HEART \n",
      "1072      CREAM WALL PLANTER HEART SHAPED\n",
      "1131             ARMY CAMO BOOKCOVER TAPE\n",
      "1204                    PINK OWL SOFT TOY\n",
      "1334   3 HEARTS HANGING DECORATION RUSTIC\n",
      "1391      PINK VINTAGE PAISLEY PICNIC BAG\n",
      "1563              PINK GLASS CANDLEHOLDER\n",
      "1583                       SANDALWOOD FAN\n",
      "1718             ABSTRACT CIRCLE JOURNAL \n",
      "1917   TROPICAL  HONEYCOMB PAPER GARLAND \n",
      "2183        PURPLE ACRYLIC FACETED BANGLE\n",
      "2476          DAISIES  HONEYCOMB GARLAND \n",
      "2574                        BUNNY EGG BOX\n",
      "2720      BLACK VINTAGE  CRYSTAL EARRINGS \n",
      " ######################################\n",
      "                              Description\n",
      "87                  FELT EGG COSY CHICKEN\n",
      "262            JAZZ HEARTS PURSE NOTEBOOK\n",
      "318          AIRLINE BAG VINTAGE TOKYO 78\n",
      "681             BIRTHDAY CARD, RETRO SPOT\n",
      "652                   TOADSTOOL MONEY BOX\n",
      "1162               WRAP PINK FAIRY CAKES \n",
      "259             PINK OVAL JEWELLED MIRROR\n",
      "282                 BRIGHT BLUES RIBBONS \n",
      "105    CERAMIC STRAWBERRY CAKE MONEY BANK\n",
      "586             CALENDAR PAPER CUT DESIGN\n",
      "647       IVORY ENCHANTED FOREST PLACEMAT\n",
      "901    GREEN 3 PIECE POLKADOT CUTLERY SET\n",
      "19            RECIPE BOX WITH METAL HEART\n",
      "257            STAR PORTABLE TABLE LIGHT \n",
      "1037           TRADITIONAL MODELLING CLAY\n",
      "109          GUMBALL MONOCHROME COAT RACK\n",
      "88                  PIGGY BANK RETROSPOT \n",
      "579                     HERB MARKER THYME\n",
      "713       RECIPE BOX PANTRY YELLOW DESIGN\n",
      "1050   12 PENCILS TALL TUBE RED RETROSPOT\n",
      "507      STAR WOODEN CHRISTMAS DECORATION\n",
      "1245                      SPACE CADET RED\n",
      "256           BLACK PIRATE TREASURE CHEST\n",
      "116      ANTIQUE GLASS DRESSING TABLE POT\n",
      "678              RIDGED GLASS FINGER BOWL\n",
      "481           VICTORIAN SEWING BOX SMALL \n",
      "1091                BLUE CALCULATOR RULER\n",
      "506               MINI FUNKY DESIGN TAPES\n",
      "1681       BISCUITS SMALL BOWL LIGHT BLUE\n",
      "276    PINK DRAWER KNOB ACRYLIC EDWARDIAN\n",
      "...                                   ...\n",
      "3253  SET 4 VALENTINE DECOUPAGE HEART BOX\n",
      "2353          PINK GINGHAM CAT WITH SCARF\n",
      "3252    STAR T-LIGHT HOLDER WILLIE WINKIE\n",
      "3503            ADULT APRON APPLE DELIGHT\n",
      "2789               LUNCH BAG SUKI DESIGN \n",
      "2443       HANGING HEN ON NEST DECORATION\n",
      "3473                 WRAP 50'S  CHRISTMAS\n",
      "3486            GOLD M.O.P ORBIT BRACELET\n",
      "3419          BOX OF 6 MINI 50'S CRACKERS\n",
      "3506      RUSTIC STRAWBERRY JAMPOT LARGE \n",
      "2948                     BEACH HUT MIRROR\n",
      "3416                       PACKING CHARGE\n",
      "3487         SET 8 CANDLES VINTAGE DOILEY\n",
      "1471     GOLD MUG BONE CHINA TREE OF LIFE\n",
      "3490     GIFT BAG LARGE VINTAGE CHRISTMAS\n",
      "3497          ROLL WRAP VINTAGE CHRISTMAS\n",
      "3418       BOX OF 6 MINI VINTAGE CRACKERS\n",
      "1469        BLUE FLOCK GLASS CANDLEHOLDER\n",
      "3494              RED SPOT GIFT BAG LARGE\n",
      "3359         PACK OF 6 SMALL FRUIT STRAWS\n",
      "3495               SET OF 12 FORK CANDLES\n",
      "3499                 GIFT BAG LARGE SPOT \n",
      "3493              RED SPOT PAPER GIFT BAG\n",
      "3488    SET OF 12 T-LIGHTS VINTAGE DOILEY\n",
      "2698             WHITE TRAVEL ALARM CLOCK\n",
      "3500        ROLL WRAP 50'S RED CHRISTMAS \n",
      "2750     TRAVEL CARD WALLET VINTAGE ROSE \n",
      "3496          BLUE PAINTED KASHMIRI CHAIR\n",
      "3484          MISELTOE HEART WREATH CREAM\n",
      "3502            JUMBO BAG VINTAGE DOILEY \n",
      "\n",
      "[3664 rows x 1 columns]\n"
     ]
    }
   ],
   "source": [
    "def display_recommended_items(model, data, user_ids):\n",
    "    \n",
    "    n_users, n_items = data.shape\n",
    "\n",
    "    for id in user_ids:\n",
    "\n",
    "        known_positives = item_lookup['Description'][product_train.tocsr()[id].indices]\n",
    "        known_positives_df = pd.DataFrame(data=known_positives)\n",
    "        print(known_positives_df,'\\n','######################################')            \n",
    "       \n",
    "        scores = model.predict(id, np.arange(n_items))\n",
    "\n",
    "        top_items = item_lookup['Description'][np.argsort(-scores)]\n",
    "        df = pd.DataFrame(data=top_items)\n",
    "        print(df)            \n",
    "            \n",
    "\n",
    "display_recommended_items(model, product_train, [3664])\n"
   ]
  }
 ],
 "metadata": {
  "kernelspec": {
   "display_name": "Python 3",
   "language": "python",
   "name": "python3"
  },
  "language_info": {
   "codemirror_mode": {
    "name": "ipython",
    "version": 3
   },
   "file_extension": ".py",
   "mimetype": "text/x-python",
   "name": "python",
   "nbconvert_exporter": "python",
   "pygments_lexer": "ipython3",
   "version": "3.6.5"
  }
 },
 "nbformat": 4,
 "nbformat_minor": 2
}
