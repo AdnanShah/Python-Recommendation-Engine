{
 "cells": [
  {
   "cell_type": "code",
   "execution_count": 1,
   "metadata": {},
   "outputs": [],
   "source": [
    "import pandas as pd\n",
    "import scipy.sparse as sparse\n",
    "import numpy as np\n",
    "from scipy.sparse.linalg import spsolve"
   ]
  },
  {
   "cell_type": "code",
   "execution_count": 2,
   "metadata": {},
   "outputs": [
    {
     "data": {
      "text/html": [
       "<div>\n",
       "<style scoped>\n",
       "    .dataframe tbody tr th:only-of-type {\n",
       "        vertical-align: middle;\n",
       "    }\n",
       "\n",
       "    .dataframe tbody tr th {\n",
       "        vertical-align: top;\n",
       "    }\n",
       "\n",
       "    .dataframe thead th {\n",
       "        text-align: right;\n",
       "    }\n",
       "</style>\n",
       "<table border=\"1\" class=\"dataframe\">\n",
       "  <thead>\n",
       "    <tr style=\"text-align: right;\">\n",
       "      <th></th>\n",
       "      <th>CustomerID</th>\n",
       "      <th>StockCode</th>\n",
       "      <th>Quantity</th>\n",
       "    </tr>\n",
       "  </thead>\n",
       "  <tbody>\n",
       "    <tr>\n",
       "      <th>0</th>\n",
       "      <td>12346</td>\n",
       "      <td>23166</td>\n",
       "      <td>1</td>\n",
       "    </tr>\n",
       "    <tr>\n",
       "      <th>1</th>\n",
       "      <td>12347</td>\n",
       "      <td>16008</td>\n",
       "      <td>24</td>\n",
       "    </tr>\n",
       "    <tr>\n",
       "      <th>2</th>\n",
       "      <td>12347</td>\n",
       "      <td>17021</td>\n",
       "      <td>36</td>\n",
       "    </tr>\n",
       "    <tr>\n",
       "      <th>3</th>\n",
       "      <td>12347</td>\n",
       "      <td>20665</td>\n",
       "      <td>6</td>\n",
       "    </tr>\n",
       "    <tr>\n",
       "      <th>4</th>\n",
       "      <td>12347</td>\n",
       "      <td>20719</td>\n",
       "      <td>40</td>\n",
       "    </tr>\n",
       "  </tbody>\n",
       "</table>\n",
       "</div>"
      ],
      "text/plain": [
       "   CustomerID StockCode  Quantity\n",
       "0       12346     23166         1\n",
       "1       12347     16008        24\n",
       "2       12347     17021        36\n",
       "3       12347     20665         6\n",
       "4       12347     20719        40"
      ]
     },
     "execution_count": 2,
     "metadata": {},
     "output_type": "execute_result"
    }
   ],
   "source": [
    "grouped_purchased = pd.read_csv('cvs_data_file/online-retail.csv', header = 0)\n",
    "grouped_purchased.head()"
   ]
  },
  {
   "cell_type": "code",
   "execution_count": 3,
   "metadata": {},
   "outputs": [
    {
     "name": "stderr",
     "output_type": "stream",
     "text": [
      "C:\\Users\\Office\\Anaconda3\\lib\\site-packages\\ipykernel_launcher.py:5: FutureWarning: specifying 'categories' or 'ordered' in .astype() is deprecated; pass a CategoricalDtype instead\n",
      "  \"\"\"\n",
      "C:\\Users\\Office\\Anaconda3\\lib\\site-packages\\ipykernel_launcher.py:7: FutureWarning: specifying 'categories' or 'ordered' in .astype() is deprecated; pass a CategoricalDtype instead\n",
      "  import sys\n"
     ]
    }
   ],
   "source": [
    "customers = list(np.sort(grouped_purchased.CustomerID.unique())) # Get our unique customers\n",
    "products = list(grouped_purchased.StockCode.unique()) # Get our unique products that were purchased\n",
    "quantity = list(grouped_purchased.Quantity) # All of our purchases\n",
    "\n",
    "rows = grouped_purchased.CustomerID.astype('category', categories = customers).cat.codes \n",
    "# Get the associated row indices\n",
    "cols = grouped_purchased.StockCode.astype('category', categories = products).cat.codes \n",
    "# Get the associated column indices\n",
    "purchases_sparse = sparse.csr_matrix((quantity, (rows, cols)), shape=(len(customers), len(products)))"
   ]
  },
  {
   "cell_type": "code",
   "execution_count": 4,
   "metadata": {},
   "outputs": [
    {
     "name": "stdout",
     "output_type": "stream",
     "text": [
      "[[ 1  0  0 ...  0  0  0]\n",
      " [ 0 24 36 ...  0  0  0]\n",
      " [ 0  0  0 ...  0  0  0]\n",
      " ...\n",
      " [ 0  0  0 ...  0  0  0]\n",
      " [ 0  0  0 ...  0  0  0]\n",
      " [ 0  0  0 ...  0  0  0]]\n"
     ]
    }
   ],
   "source": [
    "print(purchases_sparse.A)"
   ]
  },
  {
   "cell_type": "code",
   "execution_count": 5,
   "metadata": {},
   "outputs": [
    {
     "data": {
      "text/plain": [
       "98.32190920694744"
      ]
     },
     "execution_count": 5,
     "metadata": {},
     "output_type": "execute_result"
    }
   ],
   "source": [
    "matrix_size = purchases_sparse.shape[0]*purchases_sparse.shape[1] # Number of possible interactions in the matrix\n",
    "num_purchases = len(purchases_sparse.nonzero()[0]) # Number of items interacted with\n",
    "sparsity = 100*(1 - (num_purchases/matrix_size))\n",
    "sparsity"
   ]
  },
  {
   "cell_type": "code",
   "execution_count": 6,
   "metadata": {},
   "outputs": [],
   "source": [
    "import random"
   ]
  },
  {
   "cell_type": "code",
   "execution_count": 7,
   "metadata": {},
   "outputs": [],
   "source": [
    "def make_train(ratings, pct_test = 0.2):\n",
    "    test_set = ratings.copy() # Make a copy of the original set to be the test set. \n",
    "    test_set[test_set != 0] = 1 # Store the test set as a binary preference matrix\n",
    "    training_set = ratings.copy() # Make a copy of the original data we can alter as our training set. \n",
    "    nonzero_inds = training_set.nonzero() # Find the indices in the ratings data where an interaction exists\n",
    "    nonzero_pairs = list(zip(nonzero_inds[0], nonzero_inds[1])) # Zip these pairs together of user,item index into list\n",
    "    random.seed(0) # Set the random seed to zero for reproducibility\n",
    "    num_samples = int(np.ceil(pct_test*len(nonzero_pairs))) # Round the number of samples needed to the nearest integer\n",
    "    samples = random.sample(nonzero_pairs, num_samples) # Sample a random number of user-item pairs without replacement\n",
    "    user_inds = [index[0] for index in samples] # Get the user row indices\n",
    "    item_inds = [index[1] for index in samples] # Get the item column indices\n",
    "    training_set[user_inds, item_inds] = 0 # Assign all of the randomly chosen user-item pairs to zero\n",
    "    training_set.eliminate_zeros() # Get rid of zeros in sparse array storage after update to save space\n",
    "    return training_set, test_set, list(set(user_inds)) # Output the unique list of user rows that were altered  "
   ]
  },
  {
   "cell_type": "code",
   "execution_count": 8,
   "metadata": {},
   "outputs": [],
   "source": [
    "product_train, product_test, product_users_altered = make_train(purchases_sparse, pct_test = 0.2)"
   ]
  },
  {
   "cell_type": "code",
   "execution_count": 9,
   "metadata": {},
   "outputs": [
    {
     "data": {
      "text/html": [
       "<div>\n",
       "<style scoped>\n",
       "    .dataframe tbody tr th:only-of-type {\n",
       "        vertical-align: middle;\n",
       "    }\n",
       "\n",
       "    .dataframe tbody tr th {\n",
       "        vertical-align: top;\n",
       "    }\n",
       "\n",
       "    .dataframe thead th {\n",
       "        text-align: right;\n",
       "    }\n",
       "</style>\n",
       "<table border=\"1\" class=\"dataframe\">\n",
       "  <thead>\n",
       "    <tr style=\"text-align: right;\">\n",
       "      <th></th>\n",
       "      <th>StockCode</th>\n",
       "      <th>Description</th>\n",
       "    </tr>\n",
       "  </thead>\n",
       "  <tbody>\n",
       "    <tr>\n",
       "      <th>0</th>\n",
       "      <td>85123A</td>\n",
       "      <td>WHITE HANGING HEART T-LIGHT HOLDER</td>\n",
       "    </tr>\n",
       "    <tr>\n",
       "      <th>1</th>\n",
       "      <td>71053</td>\n",
       "      <td>WHITE METAL LANTERN</td>\n",
       "    </tr>\n",
       "    <tr>\n",
       "      <th>2</th>\n",
       "      <td>84406B</td>\n",
       "      <td>CREAM CUPID HEARTS COAT HANGER</td>\n",
       "    </tr>\n",
       "    <tr>\n",
       "      <th>3</th>\n",
       "      <td>84029G</td>\n",
       "      <td>KNITTED UNION FLAG HOT WATER BOTTLE</td>\n",
       "    </tr>\n",
       "    <tr>\n",
       "      <th>4</th>\n",
       "      <td>84029E</td>\n",
       "      <td>RED WOOLLY HOTTIE WHITE HEART.</td>\n",
       "    </tr>\n",
       "  </tbody>\n",
       "</table>\n",
       "</div>"
      ],
      "text/plain": [
       "  StockCode                          Description\n",
       "0    85123A   WHITE HANGING HEART T-LIGHT HOLDER\n",
       "1     71053                  WHITE METAL LANTERN\n",
       "2    84406B       CREAM CUPID HEARTS COAT HANGER\n",
       "3    84029G  KNITTED UNION FLAG HOT WATER BOTTLE\n",
       "4    84029E       RED WOOLLY HOTTIE WHITE HEART."
      ]
     },
     "execution_count": 9,
     "metadata": {},
     "output_type": "execute_result"
    }
   ],
   "source": [
    "item_lookup = pd.read_csv('cvs_data_file/item_lookup.csv', header = 0)\n",
    "item_lookup.head()"
   ]
  },
  {
   "cell_type": "code",
   "execution_count": null,
   "metadata": {},
   "outputs": [],
   "source": []
  },
  {
   "cell_type": "code",
   "execution_count": 10,
   "metadata": {},
   "outputs": [
    {
     "name": "stderr",
     "output_type": "stream",
     "text": [
      "C:\\Users\\Office\\Anaconda3\\lib\\site-packages\\lightfm\\_lightfm_fast.py:9: UserWarning: LightFM was compiled without OpenMP support. Only a single thread will be used.\n",
      "  warnings.warn('LightFM was compiled without OpenMP support. '\n"
     ]
    }
   ],
   "source": [
    "import pickle\n",
    "\n",
    "with open('saved_model','rb') as f:\n",
    "            saved_model=pickle.load(f)\n",
    "            model=saved_model['model']"
   ]
  },
  {
   "cell_type": "code",
   "execution_count": 11,
   "metadata": {},
   "outputs": [
    {
     "name": "stdout",
     "output_type": "stream",
     "text": [
      "2          CREAM CUPID HEARTS COAT HANGER\n",
      "2608                LA PALMIERA TILE HOOK\n",
      "2472             VINTAGE WOODEN BAR STOOL\n",
      "1662    BIRDHOUSE DECORATION MAGIC GARDEN\n",
      "2285      BLUE GINGHAM ROSE CUSHION COVER\n",
      "Name: Description, dtype: object\n"
     ]
    }
   ],
   "source": [
    "# new\n",
    "# item TO item recommendation\n",
    "from sklearn.metrics.pairwise import cosine_similarity\n",
    "\n",
    "print(item_lookup['Description'][cosine_similarity(\n",
    "        model.item_embeddings)[2].argsort()][-5:][::-1])\n"
   ]
  },
  {
   "cell_type": "code",
   "execution_count": 18,
   "metadata": {},
   "outputs": [
    {
     "name": "stdout",
     "output_type": "stream",
     "text": [
      "customers_arr [12346 12347 12348 ... 18282 18283 18287]\n",
      "4337\n",
      "                              Description\n",
      "59                JUMBO BAG PINK POLKADOT\n",
      "119         3 TIER CAKE TIN RED AND CREAM\n",
      "120      SET 3 WICKER OVAL BASKETS W LIDS\n",
      "128                 HEART OF WICKER LARGE\n",
      "137         ORGANISER WOOD ANTIQUE WHITE \n",
      "309            HANGING METAL STAR LANTERN\n",
      "369                  FELTCRAFT DOLL MOLLY\n",
      "406                    VINTAGE SNAP CARDS\n",
      "625   CREAM SLICE FLANNEL CHOCOLATE SPOT \n",
      "715               20 DOLLY PEGS RETROSPOT\n",
      "726            PEACE WOODEN BLOCK LETTERS\n",
      "772                    TOOL BOX SOFT TOY \n",
      "801         FRENCH BLUE METAL DOOR SIGN 3\n",
      "802        FRENCH BLUE METAL DOOR SIGN No\n",
      "918                36 PENCILS TUBE SKULLS\n",
      "919                   GREEN FERN JOURNAL \n",
      "952          FLUTED ANTIQUE CANDLE HOLDER\n",
      "955                TEA TIME KITCHEN APRON\n",
      "1003              WATERING CAN PINK BUNNY\n",
      "1022            BROCANTE SHELF WITH HOOKS\n",
      "1102      DINOSAUR LUNCH BOX WITH CUTLERY\n",
      "1148       PINK FLOWER CROCHET FOOD COVER\n",
      "1175        5 STRAND GLASS NECKLACE BLACK\n",
      "1176       DROP DIAMANTE EARRINGS CRYSTAL\n",
      "1177    AMETHYST HOOP EARRING FLORAL LEAF\n",
      "1218               TWO DOOR CURIO CABINET\n",
      "1415        BEWARE OF THE CAT METAL SIGN \n",
      "1502          ASSTD DESIGN RACING CAR PEN\n",
      "1585       PACK 6 HEART/ICE-CREAM PATCHES\n",
      "1776       MIRRORED WALL ART PHOTO FRAMES\n",
      "1854                  MINI JIGSAW BUNNIES\n",
      "1870    SILVER VANILLA  FLOWER CANDLE POT\n",
      "1881       SET OF 2 ROUND TINS CAMEMBERT \n",
      "2011                     HEARTS GIFT TAPE\n",
      "2012      PINK FOXGLOVE ARTIIFCIAL FLOWER\n",
      "2080          PAPERWEIGHT VINTAGE COLLAGE\n",
      "2081          PAPERWEIGHT HOME SWEET HOME\n",
      "2102    SMALL TALL CAMPHOR WOOD TOADSTOOL\n",
      "2119            OLD DOC RUSSEL METAL SIGN\n",
      "2141   CHARLIE & LOLA WASTEPAPER BIN BLUE\n",
      "2147          WHITE MURANO TWIST BRACELET\n",
      "2149         BLACK SILOUETTE CANDLE PLATE\n",
      "2165     ZINC HEART LATTICE CHARGER SMALL\n",
      "2175    SWEETHEART CREAM STEEL TABLE RECT\n",
      "2358               SCHOOL DESK AND CHAIR \n",
      "2364       POLYESTER FILLER PAD 30CMx30CM\n",
      "2365           MOCK LOBSTER FRIDGE MAGNET\n",
      "2410               LOVE HEART TRINKET POT\n",
      "2872                DOLLCRAFT GIRL AMELIE\n",
      "2880                  CANDY SPOT HAND BAG\n",
      "3124               REGENCY TEA PLATE PINK \n",
      " ######################################\n",
      "                              Description\n",
      "865               MA CAMPAGNE CUTLERY BOX\n",
      "866         YULETIDE IMAGES GIFT WRAP SET\n",
      "613   SET OF 16 VINTAGE PISTACHIO CUTLERY\n",
      "864       WOOD AND GLASS MEDICINE CABINET\n",
      "805       SMALL PURPLE BABUSHKA NOTEBOOK \n",
      "779                RED SPOTTY BISCUIT TIN\n",
      "698          BOOZE & WOMEN GREETING CARD \n",
      "310         SILVER HANGING T-LIGHT HOLDER\n",
      "614                 CHRISTMAS TOILET ROLL\n",
      "804                 BEACH HUT KEY CABINET\n",
      "848      CHRISTMAS HANGING TREE WITH BELL\n",
      "803       SET OF 3 BABUSHKA STACKING TINS\n",
      "931                   HOME SWEET HOME MUG\n",
      "632           12 PENCILS SMALL TUBE SKULL\n",
      "873        PINK/WHITE CHRISTMAS TREE 60CM\n",
      "1295          UNION STRIPE CUSHION COVER \n",
      "1996  SMALL FOLDING SCISSOR(POINTED EDGE)\n",
      "1987       SET/4 SPRING FLOWER DECORATION\n",
      "699              PACK OF 12 SUKI TISSUES \n",
      "2415        FRENCH BLUE METAL DOOR SIGN 7\n",
      "969                JOY LARGE WOOD LETTERS\n",
      "1161     FAMILY ALBUM WHITE PICTURE FRAME\n",
      "835      CIRCUS PARADE CHILDRENS EGG CUP \n",
      "934               BAG 250g SWIRLY MARBLES\n",
      "612    CHOCOLATE 3 WICK MORRIS BOX CANDLE\n",
      "610      CHRISTMAS HANGING STAR WITH BELL\n",
      "534            VINTAGE UNION JACK BUNTING\n",
      "2454            75 GREEN FAIRY CAKE CASES\n",
      "457             CLASSICAL ROSE SMALL VASE\n",
      "1831                        WRAP FOLK ART\n",
      "...                                   ...\n",
      "1730          CITRONELLA CANDLE FLOWERPOT\n",
      "640    MULTI COLOUR SILVER T-LIGHT HOLDER\n",
      "528              BLACK RECORD COVER FRAME\n",
      "1574        TABLECLOTH RED APPLES DESIGN \n",
      "1086                BOOM BOX SPEAKER BOYS\n",
      "1941             A4 WALL TIDY BLUE OFFICE\n",
      "1394    RED RETROSPOT TEA CUP AND SAUCER \n",
      "2528                   NINJA RABBIT BLACK\n",
      "575                  HERB MARKER ROSEMARY\n",
      "2231              RED HEARTS LIGHT CHAIN \n",
      "3080          ZINC WIRE KITCHEN ORGANISER\n",
      "2230             PINK HEARTS LIGHT CHAIN \n",
      "3525            HANGING CLEAR MINI BOTTLE\n",
      "1087      PINK FAIRY CAKE CHILDRENS APRON\n",
      "156            SET OF 3 GOLD FLYING DUCKS\n",
      "1577            MULTICOLOUR HONEYCOMB FAN\n",
      "69        PACK OF 72 RETROSPOT CAKE CASES\n",
      "1572     LARGE MEDINA STAMPED METAL BOWL \n",
      "453             SWEETHEART WIRE WALL TIDY\n",
      "66                LUNCH BAG RED RETROSPOT\n",
      "523               DINOSAURS  WRITING SET \n",
      "500    SET/10 BLUE POLKADOT PARTY CANDLES\n",
      "296             HEART IVORY TRELLIS LARGE\n",
      "2758      TRAVEL CARD WALLET RETRO PETALS\n",
      "2041           GREEN BIRDHOUSE DECORATION\n",
      "525                  DOORMAT BLACK FLOCK \n",
      "68      LUNCH BOX WITH CUTLERY RETROSPOT \n",
      "2757       RETRO PILL BOX , REVOLUTIONARY\n",
      "480         BLUE GIANT GARDEN THERMOMETER\n",
      "3148                      ALUMINIUM HEART\n",
      "\n",
      "[3664 rows x 1 columns]\n"
     ]
    }
   ],
   "source": [
    "\n",
    "def display_recommended_items(model, data, user_ids):\n",
    "    customers_arr = np.array(customers)\n",
    "    print(\"customers_arr\",customers_arr)\n",
    "    \n",
    "    user_ids = np.where(customers_arr == user_ids)[0][0]\n",
    "    print(user_ids)\n",
    "    n_users, n_items = data.shape\n",
    "\n",
    "    known_positives = item_lookup['Description'][data.tocsr()[user_ids].indices]\n",
    "    known_positives_df = pd.DataFrame(data=known_positives)\n",
    "    print(known_positives_df,'\\n','######################################')            \n",
    "        \n",
    "    scores = model.predict(user_ids, np.arange(n_items))\n",
    "\n",
    "    top_items = item_lookup['Description'][np.argsort(-scores)]\n",
    "    df = pd.DataFrame(data=top_items)\n",
    "    print(df)            \n",
    "            \n",
    "\n",
    "display_recommended_items(model, product_train, 18287)\n"
   ]
  }
 ],
 "metadata": {
  "kernelspec": {
   "display_name": "Python 3",
   "language": "python",
   "name": "python3"
  },
  "language_info": {
   "codemirror_mode": {
    "name": "ipython",
    "version": 3
   },
   "file_extension": ".py",
   "mimetype": "text/x-python",
   "name": "python",
   "nbconvert_exporter": "python",
   "pygments_lexer": "ipython3",
   "version": "3.6.5"
  }
 },
 "nbformat": 4,
 "nbformat_minor": 2
}
