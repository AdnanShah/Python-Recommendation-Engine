{
 "cells": [
  {
   "cell_type": "code",
   "execution_count": 1,
   "metadata": {},
   "outputs": [],
   "source": [
    "import pandas as pd\n",
    "import scipy.sparse as sparse\n",
    "import numpy as np\n",
    "from scipy.sparse.linalg import spsolve"
   ]
  },
  {
   "cell_type": "code",
   "execution_count": 2,
   "metadata": {},
   "outputs": [
    {
     "data": {
      "text/html": [
       "<div>\n",
       "<style scoped>\n",
       "    .dataframe tbody tr th:only-of-type {\n",
       "        vertical-align: middle;\n",
       "    }\n",
       "\n",
       "    .dataframe tbody tr th {\n",
       "        vertical-align: top;\n",
       "    }\n",
       "\n",
       "    .dataframe thead th {\n",
       "        text-align: right;\n",
       "    }\n",
       "</style>\n",
       "<table border=\"1\" class=\"dataframe\">\n",
       "  <thead>\n",
       "    <tr style=\"text-align: right;\">\n",
       "      <th></th>\n",
       "      <th>CustomerID</th>\n",
       "      <th>StockCode</th>\n",
       "      <th>Quantity</th>\n",
       "    </tr>\n",
       "  </thead>\n",
       "  <tbody>\n",
       "    <tr>\n",
       "      <th>0</th>\n",
       "      <td>12346</td>\n",
       "      <td>23166</td>\n",
       "      <td>1</td>\n",
       "    </tr>\n",
       "    <tr>\n",
       "      <th>1</th>\n",
       "      <td>12347</td>\n",
       "      <td>16008</td>\n",
       "      <td>24</td>\n",
       "    </tr>\n",
       "    <tr>\n",
       "      <th>2</th>\n",
       "      <td>12347</td>\n",
       "      <td>17021</td>\n",
       "      <td>36</td>\n",
       "    </tr>\n",
       "    <tr>\n",
       "      <th>3</th>\n",
       "      <td>12347</td>\n",
       "      <td>20665</td>\n",
       "      <td>6</td>\n",
       "    </tr>\n",
       "    <tr>\n",
       "      <th>4</th>\n",
       "      <td>12347</td>\n",
       "      <td>20719</td>\n",
       "      <td>40</td>\n",
       "    </tr>\n",
       "  </tbody>\n",
       "</table>\n",
       "</div>"
      ],
      "text/plain": [
       "   CustomerID StockCode  Quantity\n",
       "0       12346     23166         1\n",
       "1       12347     16008        24\n",
       "2       12347     17021        36\n",
       "3       12347     20665         6\n",
       "4       12347     20719        40"
      ]
     },
     "execution_count": 2,
     "metadata": {},
     "output_type": "execute_result"
    }
   ],
   "source": [
    "grouped_purchased = pd.read_csv('cvs_data_file/online-retail.csv', header = 0)\n",
    "grouped_purchased.head()"
   ]
  },
  {
   "cell_type": "code",
   "execution_count": 3,
   "metadata": {},
   "outputs": [
    {
     "name": "stderr",
     "output_type": "stream",
     "text": [
      "C:\\Users\\Office\\Anaconda3\\lib\\site-packages\\ipykernel_launcher.py:5: FutureWarning: specifying 'categories' or 'ordered' in .astype() is deprecated; pass a CategoricalDtype instead\n",
      "  \"\"\"\n",
      "C:\\Users\\Office\\Anaconda3\\lib\\site-packages\\ipykernel_launcher.py:7: FutureWarning: specifying 'categories' or 'ordered' in .astype() is deprecated; pass a CategoricalDtype instead\n",
      "  import sys\n"
     ]
    }
   ],
   "source": [
    "customers = list(np.sort(grouped_purchased.CustomerID.unique())) # Get our unique customers\n",
    "products = list(grouped_purchased.StockCode.unique()) # Get our unique products that were purchased\n",
    "quantity = list(grouped_purchased.Quantity) # All of our purchases\n",
    "\n",
    "rows = grouped_purchased.CustomerID.astype('category', categories = customers).cat.codes \n",
    "# Get the associated row indices\n",
    "cols = grouped_purchased.StockCode.astype('category', categories = products).cat.codes \n",
    "# Get the associated column indices\n",
    "purchases_sparse = sparse.csr_matrix((quantity, (rows, cols)), shape=(len(customers), len(products)))"
   ]
  },
  {
   "cell_type": "code",
   "execution_count": 4,
   "metadata": {},
   "outputs": [
    {
     "data": {
      "text/plain": [
       "98.32190920694744"
      ]
     },
     "execution_count": 4,
     "metadata": {},
     "output_type": "execute_result"
    }
   ],
   "source": [
    "matrix_size = purchases_sparse.shape[0]*purchases_sparse.shape[1] # Number of possible interactions in the matrix\n",
    "num_purchases = len(purchases_sparse.nonzero()[0]) # Number of items interacted with\n",
    "sparsity = 100*(1 - (num_purchases/matrix_size))\n",
    "sparsity"
   ]
  },
  {
   "cell_type": "code",
   "execution_count": 5,
   "metadata": {},
   "outputs": [],
   "source": [
    "import random"
   ]
  },
  {
   "cell_type": "code",
   "execution_count": 6,
   "metadata": {},
   "outputs": [],
   "source": [
    "def make_train(ratings, pct_test = 0.2):\n",
    "    '''\n",
    "    This function will take in the original user-item matrix and \"mask\" a percentage of the original ratings where a\n",
    "    user-item interaction has taken place for use as a test set. The test set will contain all of the original ratings, \n",
    "    while the training set replaces the specified percentage of them with a zero in the original ratings matrix. \n",
    "    \n",
    "    parameters: \n",
    "    \n",
    "    ratings - the original ratings matrix from which you want to generate a train/test set. Test is just a complete\n",
    "    copy of the original set. This is in the form of a sparse csr_matrix. \n",
    "    \n",
    "    pct_test - The percentage of user-item interactions where an interaction took place that you want to mask in the \n",
    "    training set for later comparison to the test set, which contains all of the original ratings. \n",
    "    \n",
    "    returns:\n",
    "    \n",
    "    training_set - The altered version of the original data with a certain percentage of the user-item pairs \n",
    "    that originally had interaction set back to zero.\n",
    "    \n",
    "    test_set - A copy of the original ratings matrix, unaltered, so it can be used to see how the rank order \n",
    "    compares with the actual interactions.\n",
    "    \n",
    "    user_inds - From the randomly selected user-item indices, which user rows were altered in the training data.\n",
    "    This will be necessary later when evaluating the performance via AUC.\n",
    "    '''\n",
    "    test_set = ratings.copy() # Make a copy of the original set to be the test set. \n",
    "    test_set[test_set != 0] = 1 # Store the test set as a binary preference matrix\n",
    "    training_set = ratings.copy() # Make a copy of the original data we can alter as our training set. \n",
    "    nonzero_inds = training_set.nonzero() # Find the indices in the ratings data where an interaction exists\n",
    "    nonzero_pairs = list(zip(nonzero_inds[0], nonzero_inds[1])) # Zip these pairs together of user,item index into list\n",
    "    random.seed(0) # Set the random seed to zero for reproducibility\n",
    "    num_samples = int(np.ceil(pct_test*len(nonzero_pairs))) # Round the number of samples needed to the nearest integer\n",
    "    samples = random.sample(nonzero_pairs, num_samples) # Sample a random number of user-item pairs without replacement\n",
    "    user_inds = [index[0] for index in samples] # Get the user row indices\n",
    "    item_inds = [index[1] for index in samples] # Get the item column indices\n",
    "    training_set[user_inds, item_inds] = 0 # Assign all of the randomly chosen user-item pairs to zero\n",
    "    training_set.eliminate_zeros() # Get rid of zeros in sparse array storage after update to save space\n",
    "    return training_set, test_set, list(set(user_inds)) # Output the unique list of user rows that were altered  "
   ]
  },
  {
   "cell_type": "code",
   "execution_count": 7,
   "metadata": {},
   "outputs": [],
   "source": [
    "product_train, product_test, product_users_altered = make_train(purchases_sparse, pct_test = 0.2)"
   ]
  },
  {
   "cell_type": "code",
   "execution_count": 8,
   "metadata": {},
   "outputs": [
    {
     "data": {
      "text/html": [
       "<div>\n",
       "<style scoped>\n",
       "    .dataframe tbody tr th:only-of-type {\n",
       "        vertical-align: middle;\n",
       "    }\n",
       "\n",
       "    .dataframe tbody tr th {\n",
       "        vertical-align: top;\n",
       "    }\n",
       "\n",
       "    .dataframe thead th {\n",
       "        text-align: right;\n",
       "    }\n",
       "</style>\n",
       "<table border=\"1\" class=\"dataframe\">\n",
       "  <thead>\n",
       "    <tr style=\"text-align: right;\">\n",
       "      <th></th>\n",
       "      <th>StockCode</th>\n",
       "      <th>Description</th>\n",
       "    </tr>\n",
       "  </thead>\n",
       "  <tbody>\n",
       "    <tr>\n",
       "      <th>0</th>\n",
       "      <td>85123A</td>\n",
       "      <td>WHITE HANGING HEART T-LIGHT HOLDER</td>\n",
       "    </tr>\n",
       "    <tr>\n",
       "      <th>1</th>\n",
       "      <td>71053</td>\n",
       "      <td>WHITE METAL LANTERN</td>\n",
       "    </tr>\n",
       "    <tr>\n",
       "      <th>2</th>\n",
       "      <td>84406B</td>\n",
       "      <td>CREAM CUPID HEARTS COAT HANGER</td>\n",
       "    </tr>\n",
       "    <tr>\n",
       "      <th>3</th>\n",
       "      <td>84029G</td>\n",
       "      <td>KNITTED UNION FLAG HOT WATER BOTTLE</td>\n",
       "    </tr>\n",
       "    <tr>\n",
       "      <th>4</th>\n",
       "      <td>84029E</td>\n",
       "      <td>RED WOOLLY HOTTIE WHITE HEART.</td>\n",
       "    </tr>\n",
       "  </tbody>\n",
       "</table>\n",
       "</div>"
      ],
      "text/plain": [
       "  StockCode                          Description\n",
       "0    85123A   WHITE HANGING HEART T-LIGHT HOLDER\n",
       "1     71053                  WHITE METAL LANTERN\n",
       "2    84406B       CREAM CUPID HEARTS COAT HANGER\n",
       "3    84029G  KNITTED UNION FLAG HOT WATER BOTTLE\n",
       "4    84029E       RED WOOLLY HOTTIE WHITE HEART."
      ]
     },
     "execution_count": 8,
     "metadata": {},
     "output_type": "execute_result"
    }
   ],
   "source": [
    "item_lookup = pd.read_csv('cvs_data_file/item_lookup.csv', header = 0)\n",
    "item_lookup.head()"
   ]
  },
  {
   "cell_type": "code",
   "execution_count": 9,
   "metadata": {},
   "outputs": [
    {
     "name": "stderr",
     "output_type": "stream",
     "text": [
      "C:\\Users\\Office\\Anaconda3\\lib\\site-packages\\lightfm\\_lightfm_fast.py:9: UserWarning: LightFM was compiled without OpenMP support. Only a single thread will be used.\n",
      "  warnings.warn('LightFM was compiled without OpenMP support. '\n"
     ]
    }
   ],
   "source": [
    "import pickle\n",
    "\n",
    "with open('saved_model','rb') as f:\n",
    "            saved_model=pickle.load(f)\n",
    "            model=saved_model['model']"
   ]
  },
  {
   "cell_type": "code",
   "execution_count": 12,
   "metadata": {},
   "outputs": [
    {
     "name": "stdout",
     "output_type": "stream",
     "text": [
      "                             Description\n",
      "1                    WHITE METAL LANTERN\n",
      "2         CREAM CUPID HEARTS COAT HANGER\n",
      "3    KNITTED UNION FLAG HOT WATER BOTTLE\n",
      "4         RED WOOLLY HOTTIE WHITE HEART.\n",
      "5           SET 7 BABUSHKA NESTING BOXES\n",
      "8              HAND WARMER RED POLKA DOT\n",
      "9          ASSORTED COLOUR BIRD ORNAMENT\n",
      "10            POPPY'S PLAYHOUSE BEDROOM \n",
      "11             POPPY'S PLAYHOUSE KITCHEN\n",
      "13               IVORY KNITTED MUG COSY \n",
      "14    BOX OF 6 ASSORTED COLOUR TEASPOONS\n",
      "15         BOX OF VINTAGE JIGSAW BLOCKS \n",
      "16        BOX OF VINTAGE ALPHABET BLOCKS\n",
      "17              HOME BUILDING BLOCK WORD\n",
      "18              LOVE BUILDING BLOCK WORD\n",
      "21              JAM MAKING SET WITH JARS\n",
      "22           RED COAT RACK PARIS FASHION\n",
      "23        YELLOW COAT RACK PARIS FASHION\n",
      "24          BLUE COAT RACK PARIS FASHION\n",
      "25              BATH BUILDING BLOCK WORD\n",
      "26             ALARM CLOCK BAKELIKE PINK\n",
      "27             ALARM CLOCK BAKELIKE RED \n",
      "28            ALARM CLOCK BAKELIKE GREEN\n",
      "29       PANDA AND BUNNIES STICKER SHEET\n",
      "30                      STARS GIFT TAPE \n",
      "31           INFLATABLE POLITICAL GLOBE \n",
      "32    VINTAGE HEADS AND TAILS CARD GAME \n",
      "33       SET/2 RED RETROSPOT TEA TOWELS \n",
      "35                   SPACEBOY LUNCH BOX \n",
      "37              CIRCUS PARADE LUNCH BOX \n",
      "..                                   ...\n",
      "68     LUNCH BOX WITH CUTLERY RETROSPOT \n",
      "69       PACK OF 72 RETROSPOT CAKE CASES\n",
      "71    PACK OF 60 PINK PAISLEY CAKE CASES\n",
      "72           60 TEATIME FAIRY CAKE CASES\n",
      "75    RED CHARLIE+LOLA PERSONAL DOORSIGN\n",
      "76                JUMBO STORAGE BAG SUKI\n",
      "77        JUMBO BAG PINK VINTAGE PAISLEY\n",
      "78                JAM MAKING SET PRINTED\n",
      "79      RETROSPOT TEA SET CERAMIC 11 PC \n",
      "80                   GIRLY PINK TOOL SET\n",
      "81     JUMBO SHOPPER VINTAGE RED PAISLEY\n",
      "82             AIRLINE LOUNGE,METAL SIGN\n",
      "83    WHITE SPOT RED CERAMIC DRAWER KNOB\n",
      "84     RED DRAWER KNOB ACRYLIC EDWARDIAN\n",
      "85   CLEAR DRAWER KNOB ACRYLIC EDWARDIAN\n",
      "87                 FELT EGG COSY CHICKEN\n",
      "88                 PIGGY BANK RETROSPOT \n",
      "89                    SKULL SHOULDER BAG\n",
      "90       YOU'RE CONFUSING ME METAL SIGN \n",
      "92           GIN + TONIC DIET METAL SIGN\n",
      "93       YELLOW BREAKFAST CUP AND SAUCER\n",
      "94        PINK BREAKFAST CUP AND SAUCER \n",
      "95             PAPER CHAIN KIT RETROSPOT\n",
      "96             SMALL HEART FLOWERS HOOK \n",
      "97                 TEA TIME DES TEA COSY\n",
      "99      ZINC WILLIE WINKIE  CANDLE STICK\n",
      "100       CERAMIC CHERRY CAKE MONEY BANK\n",
      "101             RETROSPOT LARGE MILK JUG\n",
      "102               SET OF 6 FUNKY BEAKERS\n",
      "103              EDWARDIAN PARASOL BLACK\n",
      "\n",
      "[88 rows x 1 columns] \n",
      " ######################################\n",
      "                              Description\n",
      "34    ROUND SNACK BOXES SET OF4 WOODLAND \n",
      "47                  EDWARDIAN PARASOL RED\n",
      "362    ROUND SNACK BOXES SET OF 4 FRUITS \n",
      "360                  JUMBO BAG STRAWBERRY\n",
      "261          COSY HOUR GIANT TUBE MATCHES\n",
      "1093      SCENTED CANDLE IN DIGITALIS TIN\n",
      "46        PAPER CHAIN KIT 50'S CHRISTMAS \n",
      "45                                POSTAGE\n",
      "1656       SMALL SILVER FLOWER CANDLE POT\n",
      "67      STRAWBERRY LUNCH BOX WITH CUTLERY\n"
     ]
    }
   ],
   "source": [
    "def display_recommended_items(model, data, user_ids):\n",
    "    \n",
    "    n_users, n_items = data.shape\n",
    "    \n",
    "    known_positives = item_lookup['Description'][product_train.tocsr()[user_ids].indices]\n",
    "    known_positives_df = pd.DataFrame(data=known_positives)\n",
    "    print(known_positives_df,'\\n','######################################')            \n",
    "        \n",
    "    scores = model.predict(user_ids, np.arange(n_items))\n",
    "\n",
    "    top_items = item_lookup['Description'][np.argsort(-scores)]\n",
    "    df = pd.DataFrame(data=top_items[:10])\n",
    "    print(df)            \n",
    "            \n",
    "\n",
    "display_recommended_items(model, product_train, 1)\n"
   ]
  }
 ],
 "metadata": {
  "kernelspec": {
   "display_name": "Python 3",
   "language": "python",
   "name": "python3"
  },
  "language_info": {
   "codemirror_mode": {
    "name": "ipython",
    "version": 3
   },
   "file_extension": ".py",
   "mimetype": "text/x-python",
   "name": "python",
   "nbconvert_exporter": "python",
   "pygments_lexer": "ipython3",
   "version": "3.6.5"
  }
 },
 "nbformat": 4,
 "nbformat_minor": 2
}
