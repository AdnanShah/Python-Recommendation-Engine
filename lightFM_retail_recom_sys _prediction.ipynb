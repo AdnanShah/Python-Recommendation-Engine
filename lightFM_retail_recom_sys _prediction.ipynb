{
 "cells": [
  {
   "cell_type": "code",
   "execution_count": 1,
   "metadata": {},
   "outputs": [],
   "source": [
    "import pandas as pd\n",
    "import scipy.sparse as sparse\n",
    "import numpy as np\n",
    "from scipy.sparse.linalg import spsolve"
   ]
  },
  {
   "cell_type": "code",
   "execution_count": 131,
   "metadata": {},
   "outputs": [
    {
     "data": {
      "text/html": [
       "<div>\n",
       "<style scoped>\n",
       "    .dataframe tbody tr th:only-of-type {\n",
       "        vertical-align: middle;\n",
       "    }\n",
       "\n",
       "    .dataframe tbody tr th {\n",
       "        vertical-align: top;\n",
       "    }\n",
       "\n",
       "    .dataframe thead th {\n",
       "        text-align: right;\n",
       "    }\n",
       "</style>\n",
       "<table border=\"1\" class=\"dataframe\">\n",
       "  <thead>\n",
       "    <tr style=\"text-align: right;\">\n",
       "      <th></th>\n",
       "      <th>CustomerID</th>\n",
       "      <th>StockCode</th>\n",
       "      <th>Quantity</th>\n",
       "    </tr>\n",
       "  </thead>\n",
       "  <tbody>\n",
       "    <tr>\n",
       "      <th>0</th>\n",
       "      <td>12346</td>\n",
       "      <td>23166</td>\n",
       "      <td>1</td>\n",
       "    </tr>\n",
       "    <tr>\n",
       "      <th>1</th>\n",
       "      <td>12347</td>\n",
       "      <td>16008</td>\n",
       "      <td>24</td>\n",
       "    </tr>\n",
       "    <tr>\n",
       "      <th>2</th>\n",
       "      <td>12347</td>\n",
       "      <td>17021</td>\n",
       "      <td>36</td>\n",
       "    </tr>\n",
       "    <tr>\n",
       "      <th>3</th>\n",
       "      <td>12347</td>\n",
       "      <td>20665</td>\n",
       "      <td>6</td>\n",
       "    </tr>\n",
       "    <tr>\n",
       "      <th>4</th>\n",
       "      <td>12347</td>\n",
       "      <td>20719</td>\n",
       "      <td>40</td>\n",
       "    </tr>\n",
       "    <tr>\n",
       "      <th>5</th>\n",
       "      <td>12347</td>\n",
       "      <td>20780</td>\n",
       "      <td>12</td>\n",
       "    </tr>\n",
       "    <tr>\n",
       "      <th>6</th>\n",
       "      <td>12347</td>\n",
       "      <td>20782</td>\n",
       "      <td>6</td>\n",
       "    </tr>\n",
       "    <tr>\n",
       "      <th>7</th>\n",
       "      <td>12347</td>\n",
       "      <td>20966</td>\n",
       "      <td>10</td>\n",
       "    </tr>\n",
       "    <tr>\n",
       "      <th>8</th>\n",
       "      <td>12347</td>\n",
       "      <td>21035</td>\n",
       "      <td>6</td>\n",
       "    </tr>\n",
       "    <tr>\n",
       "      <th>9</th>\n",
       "      <td>12347</td>\n",
       "      <td>21041</td>\n",
       "      <td>12</td>\n",
       "    </tr>\n",
       "  </tbody>\n",
       "</table>\n",
       "</div>"
      ],
      "text/plain": [
       "   CustomerID StockCode  Quantity\n",
       "0       12346     23166         1\n",
       "1       12347     16008        24\n",
       "2       12347     17021        36\n",
       "3       12347     20665         6\n",
       "4       12347     20719        40\n",
       "5       12347     20780        12\n",
       "6       12347     20782         6\n",
       "7       12347     20966        10\n",
       "8       12347     21035         6\n",
       "9       12347     21041        12"
      ]
     },
     "execution_count": 131,
     "metadata": {},
     "output_type": "execute_result"
    }
   ],
   "source": [
    "grouped_purchased = pd.read_csv('cvs_data_file/online-retail.csv', header = 0)\n",
    "grouped_purchased.head(n=10)"
   ]
  },
  {
   "cell_type": "code",
   "execution_count": 3,
   "metadata": {},
   "outputs": [
    {
     "name": "stderr",
     "output_type": "stream",
     "text": [
      "C:\\Users\\Office\\Anaconda3\\lib\\site-packages\\ipykernel_launcher.py:5: FutureWarning: specifying 'categories' or 'ordered' in .astype() is deprecated; pass a CategoricalDtype instead\n",
      "  \"\"\"\n",
      "C:\\Users\\Office\\Anaconda3\\lib\\site-packages\\ipykernel_launcher.py:7: FutureWarning: specifying 'categories' or 'ordered' in .astype() is deprecated; pass a CategoricalDtype instead\n",
      "  import sys\n"
     ]
    }
   ],
   "source": [
    "customers = list(np.sort(grouped_purchased.CustomerID.unique())) # Get our unique customers\n",
    "products = list(grouped_purchased.StockCode.unique()) # Get our unique products that were purchased\n",
    "quantity = list(grouped_purchased.Quantity) # All of our purchases\n",
    "\n",
    "rows = grouped_purchased.CustomerID.astype('category', categories = customers).cat.codes \n",
    "# Get the associated row indices\n",
    "cols = grouped_purchased.StockCode.astype('category', categories = products).cat.codes \n",
    "# Get the associated column indices\n",
    "purchases_sparse = sparse.csr_matrix((quantity, (rows, cols)), shape=(len(customers), len(products)))"
   ]
  },
  {
   "cell_type": "code",
   "execution_count": 4,
   "metadata": {},
   "outputs": [
    {
     "name": "stdout",
     "output_type": "stream",
     "text": [
      "[[ 1  0  0 ...  0  0  0]\n",
      " [ 0 24 36 ...  0  0  0]\n",
      " [ 0  0  0 ...  0  0  0]\n",
      " ...\n",
      " [ 0  0  0 ...  0  0  0]\n",
      " [ 0  0  0 ...  0  0  0]\n",
      " [ 0  0  0 ...  0  0  0]]\n"
     ]
    }
   ],
   "source": [
    "print(purchases_sparse.A)"
   ]
  },
  {
   "cell_type": "code",
   "execution_count": 5,
   "metadata": {},
   "outputs": [
    {
     "data": {
      "text/plain": [
       "98.32190920694744"
      ]
     },
     "execution_count": 5,
     "metadata": {},
     "output_type": "execute_result"
    }
   ],
   "source": [
    "matrix_size = purchases_sparse.shape[0]*purchases_sparse.shape[1] # Number of possible interactions in the matrix\n",
    "num_purchases = len(purchases_sparse.nonzero()[0]) # Number of items interacted with\n",
    "sparsity = 100*(1 - (num_purchases/matrix_size))\n",
    "sparsity"
   ]
  },
  {
   "cell_type": "code",
   "execution_count": 6,
   "metadata": {},
   "outputs": [],
   "source": [
    "import random"
   ]
  },
  {
   "cell_type": "code",
   "execution_count": 7,
   "metadata": {},
   "outputs": [],
   "source": [
    "def make_train(ratings, pct_test = 0.2):\n",
    "    test_set = ratings.copy() # Make a copy of the original set to be the test set. \n",
    "    test_set[test_set != 0] = 1 # Store the test set as a binary preference matrix\n",
    "    training_set = ratings.copy() # Make a copy of the original data we can alter as our training set. \n",
    "    nonzero_inds = training_set.nonzero() # Find the indices in the ratings data where an interaction exists\n",
    "    nonzero_pairs = list(zip(nonzero_inds[0], nonzero_inds[1])) # Zip these pairs together of user,item index into list\n",
    "    random.seed(0) # Set the random seed to zero for reproducibility\n",
    "    num_samples = int(np.ceil(pct_test*len(nonzero_pairs))) # Round the number of samples needed to the nearest integer\n",
    "    samples = random.sample(nonzero_pairs, num_samples) # Sample a random number of user-item pairs without replacement\n",
    "    user_inds = [index[0] for index in samples] # Get the user row indices\n",
    "    item_inds = [index[1] for index in samples] # Get the item column indices\n",
    "    training_set[user_inds, item_inds] = 0 # Assign all of the randomly chosen user-item pairs to zero\n",
    "    training_set.eliminate_zeros() # Get rid of zeros in sparse array storage after update to save space\n",
    "    return training_set, test_set, list(set(user_inds)) # Output the unique list of user rows that were altered  "
   ]
  },
  {
   "cell_type": "code",
   "execution_count": 8,
   "metadata": {},
   "outputs": [],
   "source": [
    "product_train, product_test, product_users_altered = make_train(purchases_sparse, pct_test = 0.2)"
   ]
  },
  {
   "cell_type": "code",
   "execution_count": 9,
   "metadata": {},
   "outputs": [
    {
     "data": {
      "text/html": [
       "<div>\n",
       "<style scoped>\n",
       "    .dataframe tbody tr th:only-of-type {\n",
       "        vertical-align: middle;\n",
       "    }\n",
       "\n",
       "    .dataframe tbody tr th {\n",
       "        vertical-align: top;\n",
       "    }\n",
       "\n",
       "    .dataframe thead th {\n",
       "        text-align: right;\n",
       "    }\n",
       "</style>\n",
       "<table border=\"1\" class=\"dataframe\">\n",
       "  <thead>\n",
       "    <tr style=\"text-align: right;\">\n",
       "      <th></th>\n",
       "      <th>StockCode</th>\n",
       "      <th>Description</th>\n",
       "    </tr>\n",
       "  </thead>\n",
       "  <tbody>\n",
       "    <tr>\n",
       "      <th>0</th>\n",
       "      <td>85123A</td>\n",
       "      <td>WHITE HANGING HEART T-LIGHT HOLDER</td>\n",
       "    </tr>\n",
       "    <tr>\n",
       "      <th>1</th>\n",
       "      <td>71053</td>\n",
       "      <td>WHITE METAL LANTERN</td>\n",
       "    </tr>\n",
       "    <tr>\n",
       "      <th>2</th>\n",
       "      <td>84406B</td>\n",
       "      <td>CREAM CUPID HEARTS COAT HANGER</td>\n",
       "    </tr>\n",
       "    <tr>\n",
       "      <th>3</th>\n",
       "      <td>84029G</td>\n",
       "      <td>KNITTED UNION FLAG HOT WATER BOTTLE</td>\n",
       "    </tr>\n",
       "    <tr>\n",
       "      <th>4</th>\n",
       "      <td>84029E</td>\n",
       "      <td>RED WOOLLY HOTTIE WHITE HEART.</td>\n",
       "    </tr>\n",
       "  </tbody>\n",
       "</table>\n",
       "</div>"
      ],
      "text/plain": [
       "  StockCode                          Description\n",
       "0    85123A   WHITE HANGING HEART T-LIGHT HOLDER\n",
       "1     71053                  WHITE METAL LANTERN\n",
       "2    84406B       CREAM CUPID HEARTS COAT HANGER\n",
       "3    84029G  KNITTED UNION FLAG HOT WATER BOTTLE\n",
       "4    84029E       RED WOOLLY HOTTIE WHITE HEART."
      ]
     },
     "execution_count": 9,
     "metadata": {},
     "output_type": "execute_result"
    }
   ],
   "source": [
    "item_lookup = pd.read_csv('cvs_data_file/item_lookup.csv', header = 0)\n",
    "item_lookup.head()"
   ]
  },
  {
   "cell_type": "code",
   "execution_count": 15,
   "metadata": {},
   "outputs": [],
   "source": [
    "def get_items_purchased(customer_id, mf_train, customers_list, products_list, item_lookup):\n",
    "    cust_ind = np.where(customers_list == customer_id)[0][0] # Returns the index row of our customer id\n",
    "    purchased_ind = mf_train[cust_ind,:].nonzero()[1] # Get column indices of purchased items\n",
    "    prod_codes = products_list[purchased_ind] # Get the stock codes for our purchased items\n",
    "    return item_lookup.loc[item_lookup.StockCode.isin(prod_codes)]"
   ]
  },
  {
   "cell_type": "code",
   "execution_count": 10,
   "metadata": {},
   "outputs": [
    {
     "name": "stderr",
     "output_type": "stream",
     "text": [
      "C:\\Users\\Office\\Anaconda3\\lib\\site-packages\\lightfm\\_lightfm_fast.py:9: UserWarning: LightFM was compiled without OpenMP support. Only a single thread will be used.\n",
      "  warnings.warn('LightFM was compiled without OpenMP support. '\n"
     ]
    }
   ],
   "source": [
    "import pickle\n",
    "\n",
    "with open('saved_model','rb') as f:\n",
    "            saved_model=pickle.load(f)\n",
    "            model=saved_model['model']"
   ]
  },
  {
   "cell_type": "code",
   "execution_count": 132,
   "metadata": {},
   "outputs": [
    {
     "name": "stdout",
     "output_type": "stream",
     "text": [
      "products_arr ['23166' '16008' '17021' ... '84613C' '84206B' '21414'] 20719\n",
      "4\n"
     ]
    },
    {
     "data": {
      "text/plain": [
       "4           RED WOOLLY HOTTIE WHITE HEART.\n",
       "289     3 PIECE SPACEBOY COOKIE CUTTER SET\n",
       "948                  PORCELAIN ROSE LARGE \n",
       "2077              FRYING PAN BLUE POLKADOT\n",
       "299       MAGIC DRAWING SLATE BAKE A CAKE \n",
       "Name: Description, dtype: object"
      ]
     },
     "execution_count": 132,
     "metadata": {},
     "output_type": "execute_result"
    }
   ],
   "source": [
    "# new\n",
    "# item TO item recommendation\n",
    "from sklearn.metrics.pairwise import cosine_similarity\n",
    "\n",
    "def display_item_to_items_recommendations(model,item_id):\n",
    "\n",
    "    products_arr = np.array(products) \n",
    "    \n",
    "    print(\"products_arr\",products_arr,str(item_id))\n",
    "    item_id = np.where(products_arr == str(item_id))[0][0]\n",
    "    print(item_id)\n",
    "  \n",
    "    return item_lookup['Description'][cosine_similarity(\n",
    "            model.item_embeddings)[item_id].argsort()][-5:][::-1]\n",
    "\n",
    "\n",
    "display_item_to_items_recommendations(model, 20719)"
   ]
  },
  {
   "cell_type": "code",
   "execution_count": 130,
   "metadata": {},
   "outputs": [
    {
     "name": "stdout",
     "output_type": "stream",
     "text": [
      "customers_arr [12346 12347 12348 ... 18282 18283 18287]\n",
      "12347 1\n",
      "                             Description\n",
      "1                    WHITE METAL LANTERN\n",
      "2         CREAM CUPID HEARTS COAT HANGER\n",
      "3    KNITTED UNION FLAG HOT WATER BOTTLE\n",
      "4         RED WOOLLY HOTTIE WHITE HEART.\n",
      "5           SET 7 BABUSHKA NESTING BOXES\n",
      "8              HAND WARMER RED POLKA DOT\n",
      "9          ASSORTED COLOUR BIRD ORNAMENT\n",
      "10            POPPY'S PLAYHOUSE BEDROOM \n",
      "11             POPPY'S PLAYHOUSE KITCHEN\n",
      "13               IVORY KNITTED MUG COSY \n",
      "14    BOX OF 6 ASSORTED COLOUR TEASPOONS\n",
      "15         BOX OF VINTAGE JIGSAW BLOCKS \n",
      "16        BOX OF VINTAGE ALPHABET BLOCKS\n",
      "17              HOME BUILDING BLOCK WORD\n",
      "18              LOVE BUILDING BLOCK WORD\n",
      "21              JAM MAKING SET WITH JARS\n",
      "22           RED COAT RACK PARIS FASHION\n",
      "23        YELLOW COAT RACK PARIS FASHION\n",
      "24          BLUE COAT RACK PARIS FASHION\n",
      "25              BATH BUILDING BLOCK WORD\n",
      "26             ALARM CLOCK BAKELIKE PINK\n",
      "27             ALARM CLOCK BAKELIKE RED \n",
      "28            ALARM CLOCK BAKELIKE GREEN\n",
      "29       PANDA AND BUNNIES STICKER SHEET\n",
      "30                      STARS GIFT TAPE \n",
      "31           INFLATABLE POLITICAL GLOBE \n",
      "32    VINTAGE HEADS AND TAILS CARD GAME \n",
      "33       SET/2 RED RETROSPOT TEA TOWELS \n",
      "35                   SPACEBOY LUNCH BOX \n",
      "37              CIRCUS PARADE LUNCH BOX \n",
      "..                                   ...\n",
      "68     LUNCH BOX WITH CUTLERY RETROSPOT \n",
      "69       PACK OF 72 RETROSPOT CAKE CASES\n",
      "71    PACK OF 60 PINK PAISLEY CAKE CASES\n",
      "72           60 TEATIME FAIRY CAKE CASES\n",
      "75    RED CHARLIE+LOLA PERSONAL DOORSIGN\n",
      "76                JUMBO STORAGE BAG SUKI\n",
      "77        JUMBO BAG PINK VINTAGE PAISLEY\n",
      "78                JAM MAKING SET PRINTED\n",
      "79      RETROSPOT TEA SET CERAMIC 11 PC \n",
      "80                   GIRLY PINK TOOL SET\n",
      "81     JUMBO SHOPPER VINTAGE RED PAISLEY\n",
      "82             AIRLINE LOUNGE,METAL SIGN\n",
      "83    WHITE SPOT RED CERAMIC DRAWER KNOB\n",
      "84     RED DRAWER KNOB ACRYLIC EDWARDIAN\n",
      "85   CLEAR DRAWER KNOB ACRYLIC EDWARDIAN\n",
      "87                 FELT EGG COSY CHICKEN\n",
      "88                 PIGGY BANK RETROSPOT \n",
      "89                    SKULL SHOULDER BAG\n",
      "90       YOU'RE CONFUSING ME METAL SIGN \n",
      "92           GIN + TONIC DIET METAL SIGN\n",
      "93       YELLOW BREAKFAST CUP AND SAUCER\n",
      "94        PINK BREAKFAST CUP AND SAUCER \n",
      "95             PAPER CHAIN KIT RETROSPOT\n",
      "96             SMALL HEART FLOWERS HOOK \n",
      "97                 TEA TIME DES TEA COSY\n",
      "99      ZINC WILLIE WINKIE  CANDLE STICK\n",
      "100       CERAMIC CHERRY CAKE MONEY BANK\n",
      "101             RETROSPOT LARGE MILK JUG\n",
      "102               SET OF 6 FUNKY BEAKERS\n",
      "103              EDWARDIAN PARASOL BLACK\n",
      "\n",
      "[88 rows x 1 columns] \n",
      " ######################################\n",
      "[array([ 122,   34,  214, ..., 2265, 3008, 3530], dtype=int64)]\n",
      "122       WOOD BLACK BOARD ANT WHITE FINISH\n",
      "34      ROUND SNACK BOXES SET OF4 WOODLAND \n",
      "214          STRAWBERRY CERAMIC TRINKET BOX\n",
      "220            SCOTTIE DOG HOT WATER BOTTLE\n",
      "140                 JUMBO BAG RED RETROSPOT\n",
      "287       SET OF 3 BUTTERFLY COOKIE CUTTERS\n",
      "217         HOT WATER BOTTLE I AM SO POORLY\n",
      "243                      KITCHEN METAL SIGN\n",
      "923        EMPIRE UNION JACK TV DINNER TRAY\n",
      "615             WHITE BELL HONEYCOMB PAPER \n",
      "154            CHRISTMAS LIGHTS 10 REINDEER\n",
      "630       ASS COL SMALL SAND GECKO P'WEIGHT\n",
      "296               HEART IVORY TRELLIS LARGE\n",
      "1093        SCENTED CANDLE IN DIGITALIS TIN\n",
      "292          72 SWEETHEART FAIRY CAKE CASES\n",
      "16           BOX OF VINTAGE ALPHABET BLOCKS\n",
      "42               MINI JIGSAW CIRCUS PARADE \n",
      "579                       HERB MARKER THYME\n",
      "47                    EDWARDIAN PARASOL RED\n",
      "67        STRAWBERRY LUNCH BOX WITH CUTLERY\n",
      "44                  MINI PAINT SET VINTAGE \n",
      "288           SET OF 3 HEART COOKIE CUTTERS\n",
      "616           4 PURPLE FLOCK DINNER CANDLES\n",
      "43                     MINI JIGSAW SPACEBOY\n",
      "222               BOUDOIR SQUARE TISSUE BOX\n",
      "60           JUMBO  BAG BAROQUE BLACK WHITE\n",
      "218              CHOCOLATE HOT WATER BOTTLE\n",
      "617             PINK & WHITE BREAKFAST TRAY\n",
      "1367                  ASSORTED INCENSE PACK\n",
      "64        BLUE 3 PIECE POLKADOT CUTLERY SET\n",
      "                       ...                 \n",
      "3198      BLUE DELPHINIUM ARTIFICIAL FLOWER\n",
      "3026             IVORY SWEETHEART SOAP DISH\n",
      "3528         RUSTIC STRAWBERRY JAMPOT SMALL\n",
      "2304           ROUND WHITE CONFETTI IN TUBE\n",
      "3057               CD WALL TIDY BLUE OFFICE\n",
      "3005                 VINTAGE EMBOSSED HEART\n",
      "3400             GLASS SONGBIRD STORAGE JAR\n",
      "3150               PARISIENNE CURIO CABINET\n",
      "3525              HANGING CLEAR MINI BOTTLE\n",
      "3616                    PANTRY HOOK SPATULA\n",
      "3615       PANTRY 3 HOOK ROLLING PIN HANGER\n",
      "3620                HOME SWEET HOME BOTTLE \n",
      "2997            DOUBLE CERAMIC PARLOUR HOOK\n",
      "3011            TRIPLE WIRE HOOK PINK HEART\n",
      "3559         HAPPY BIRTHDAY CARD TEDDY/CAKE\n",
      "3009      FLOWERS CHANDELIER T-LIGHT HOLDER\n",
      "3619               LAVENDER TOILETTE BOTTLE\n",
      "3391      VEGETABLE MAGNETIC  SHOPPING LIST\n",
      "2992        HEART BEADED TRELLIS DECORATION\n",
      "3385                  IVORY REFECTORY CLOCK\n",
      "840                       BLUE GEISHA GIRL \n",
      "3612          RUSTIC MIRROR WITH LACE HEART\n",
      "3203         CLEAR CRYSTAL STAR PHONE CHARM\n",
      "2998       ZINC SWEETHEART WIRE LETTER RACK\n",
      "3618              METALIC LEAVES BAG CHARMS\n",
      "2544             MINI LADLE LOVE HEART PINK\n",
      "796                      SUKI  SHOULDER BAG\n",
      "2265                FELT FARM ANIMAL RABBIT\n",
      "3008        IVORY CHANDELIER T-LIGHT HOLDER\n",
      "3530               ACRYLIC JEWEL ANGEL,PINK\n",
      "Name: Description, Length: 3664, dtype: object\n"
     ]
    }
   ],
   "source": [
    "\n",
    "def display_recommended_items(model, data, user_ids):\n",
    "    customers_arr = np.array(customers)\n",
    "    products_arr = np.array(products) \n",
    "    print(\"customers_arr\",customers_arr)\n",
    "    user_id = np.where(customers_arr == user_ids)[0][0]\n",
    "    print(user_ids,user_id)\n",
    "    \n",
    "    n_users, n_items = data.shape\n",
    "#     known_positives = get_items_purchased(user_ids, product_train, customers_arr, products_arr, item_lookup)\n",
    "    known_positives = item_lookup['Description'][data.tocsr()[user_id].indices]\n",
    "    known_positives_df = pd.DataFrame(data=known_positives)\n",
    "    print(known_positives_df,'\\n','######################################')            \n",
    "    \n",
    "    \n",
    "    scores = model.predict(user_id, np.arange(n_items))\n",
    "\n",
    "    print([np.argsort(-scores)])\n",
    "    \n",
    "    top_items = item_lookup['Description'][np.argsort(-scores)]\n",
    "    print(top_items)            \n",
    "            \n",
    "\n",
    "display_recommended_items(model, product_train, 12347)\n"
   ]
  }
 ],
 "metadata": {
  "kernelspec": {
   "display_name": "Python 3",
   "language": "python",
   "name": "python3"
  },
  "language_info": {
   "codemirror_mode": {
    "name": "ipython",
    "version": 3
   },
   "file_extension": ".py",
   "mimetype": "text/x-python",
   "name": "python",
   "nbconvert_exporter": "python",
   "pygments_lexer": "ipython3",
   "version": "3.6.5"
  }
 },
 "nbformat": 4,
 "nbformat_minor": 2
}
