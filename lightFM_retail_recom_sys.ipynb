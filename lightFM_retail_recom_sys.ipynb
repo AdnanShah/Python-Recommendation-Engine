{
 "cells": [
  {
   "cell_type": "code",
   "execution_count": 1,
   "metadata": {},
   "outputs": [],
   "source": [
    "import pandas as pd\n",
    "import scipy.sparse as sparse\n",
    "import numpy as np\n",
    "from scipy.sparse.linalg import spsolve"
   ]
  },
  {
   "cell_type": "code",
   "execution_count": 2,
   "metadata": {},
   "outputs": [
    {
     "data": {
      "text/html": [
       "<div>\n",
       "<style scoped>\n",
       "    .dataframe tbody tr th:only-of-type {\n",
       "        vertical-align: middle;\n",
       "    }\n",
       "\n",
       "    .dataframe tbody tr th {\n",
       "        vertical-align: top;\n",
       "    }\n",
       "\n",
       "    .dataframe thead th {\n",
       "        text-align: right;\n",
       "    }\n",
       "</style>\n",
       "<table border=\"1\" class=\"dataframe\">\n",
       "  <thead>\n",
       "    <tr style=\"text-align: right;\">\n",
       "      <th></th>\n",
       "      <th>CustomerID</th>\n",
       "      <th>StockCode</th>\n",
       "      <th>Quantity</th>\n",
       "    </tr>\n",
       "  </thead>\n",
       "  <tbody>\n",
       "    <tr>\n",
       "      <th>0</th>\n",
       "      <td>12346</td>\n",
       "      <td>23166</td>\n",
       "      <td>1</td>\n",
       "    </tr>\n",
       "    <tr>\n",
       "      <th>1</th>\n",
       "      <td>12347</td>\n",
       "      <td>16008</td>\n",
       "      <td>24</td>\n",
       "    </tr>\n",
       "    <tr>\n",
       "      <th>2</th>\n",
       "      <td>12347</td>\n",
       "      <td>17021</td>\n",
       "      <td>36</td>\n",
       "    </tr>\n",
       "    <tr>\n",
       "      <th>3</th>\n",
       "      <td>12347</td>\n",
       "      <td>20665</td>\n",
       "      <td>6</td>\n",
       "    </tr>\n",
       "    <tr>\n",
       "      <th>4</th>\n",
       "      <td>12347</td>\n",
       "      <td>20719</td>\n",
       "      <td>40</td>\n",
       "    </tr>\n",
       "  </tbody>\n",
       "</table>\n",
       "</div>"
      ],
      "text/plain": [
       "   CustomerID StockCode  Quantity\n",
       "0       12346     23166         1\n",
       "1       12347     16008        24\n",
       "2       12347     17021        36\n",
       "3       12347     20665         6\n",
       "4       12347     20719        40"
      ]
     },
     "execution_count": 2,
     "metadata": {},
     "output_type": "execute_result"
    }
   ],
   "source": [
    "grouped_purchased = pd.read_csv('cvs_data_file/online-retail.csv', header = 0)\n",
    "grouped_purchased.head()"
   ]
  },
  {
   "cell_type": "code",
   "execution_count": 3,
   "metadata": {},
   "outputs": [
    {
     "name": "stderr",
     "output_type": "stream",
     "text": [
      "C:\\Users\\Office\\Anaconda3\\lib\\site-packages\\ipykernel_launcher.py:5: FutureWarning: specifying 'categories' or 'ordered' in .astype() is deprecated; pass a CategoricalDtype instead\n",
      "  \"\"\"\n",
      "C:\\Users\\Office\\Anaconda3\\lib\\site-packages\\ipykernel_launcher.py:7: FutureWarning: specifying 'categories' or 'ordered' in .astype() is deprecated; pass a CategoricalDtype instead\n",
      "  import sys\n"
     ]
    }
   ],
   "source": [
    "customers = list(np.sort(grouped_purchased.CustomerID.unique())) # Get our unique customers\n",
    "products = list(grouped_purchased.StockCode.unique()) # Get our unique products that were purchased\n",
    "quantity = list(grouped_purchased.Quantity) # All of our purchases\n",
    "\n",
    "rows = grouped_purchased.CustomerID.astype('category', categories = customers).cat.codes \n",
    "# Get the associated row indices\n",
    "cols = grouped_purchased.StockCode.astype('category', categories = products).cat.codes \n",
    "# Get the associated column indices\n",
    "purchases_sparse = sparse.csr_matrix((quantity, (rows, cols)), shape=(len(customers), len(products)))"
   ]
  },
  {
   "cell_type": "code",
   "execution_count": 4,
   "metadata": {},
   "outputs": [
    {
     "data": {
      "text/plain": [
       "98.32190920694744"
      ]
     },
     "execution_count": 4,
     "metadata": {},
     "output_type": "execute_result"
    }
   ],
   "source": [
    "matrix_size = purchases_sparse.shape[0]*purchases_sparse.shape[1] # Number of possible interactions in the matrix\n",
    "num_purchases = len(purchases_sparse.nonzero()[0]) # Number of items interacted with\n",
    "sparsity = 100*(1 - (num_purchases/matrix_size))\n",
    "sparsity"
   ]
  },
  {
   "cell_type": "code",
   "execution_count": 5,
   "metadata": {},
   "outputs": [],
   "source": [
    "import random"
   ]
  },
  {
   "cell_type": "code",
   "execution_count": 6,
   "metadata": {},
   "outputs": [],
   "source": [
    "def make_train(ratings, pct_test = 0.2):\n",
    "    '''\n",
    "    This function will take in the original user-item matrix and \"mask\" a percentage of the original ratings where a\n",
    "    user-item interaction has taken place for use as a test set. The test set will contain all of the original ratings, \n",
    "    while the training set replaces the specified percentage of them with a zero in the original ratings matrix. \n",
    "    \n",
    "    parameters: \n",
    "    \n",
    "    ratings - the original ratings matrix from which you want to generate a train/test set. Test is just a complete\n",
    "    copy of the original set. This is in the form of a sparse csr_matrix. \n",
    "    \n",
    "    pct_test - The percentage of user-item interactions where an interaction took place that you want to mask in the \n",
    "    training set for later comparison to the test set, which contains all of the original ratings. \n",
    "    \n",
    "    returns:\n",
    "    \n",
    "    training_set - The altered version of the original data with a certain percentage of the user-item pairs \n",
    "    that originally had interaction set back to zero.\n",
    "    \n",
    "    test_set - A copy of the original ratings matrix, unaltered, so it can be used to see how the rank order \n",
    "    compares with the actual interactions.\n",
    "    \n",
    "    user_inds - From the randomly selected user-item indices, which user rows were altered in the training data.\n",
    "    This will be necessary later when evaluating the performance via AUC.\n",
    "    '''\n",
    "    test_set = ratings.copy() # Make a copy of the original set to be the test set. \n",
    "    test_set[test_set != 0] = 1 # Store the test set as a binary preference matrix\n",
    "    training_set = ratings.copy() # Make a copy of the original data we can alter as our training set. \n",
    "    nonzero_inds = training_set.nonzero() # Find the indices in the ratings data where an interaction exists\n",
    "    nonzero_pairs = list(zip(nonzero_inds[0], nonzero_inds[1])) # Zip these pairs together of user,item index into list\n",
    "    random.seed(0) # Set the random seed to zero for reproducibility\n",
    "    num_samples = int(np.ceil(pct_test*len(nonzero_pairs))) # Round the number of samples needed to the nearest integer\n",
    "    samples = random.sample(nonzero_pairs, num_samples) # Sample a random number of user-item pairs without replacement\n",
    "    user_inds = [index[0] for index in samples] # Get the user row indices\n",
    "    item_inds = [index[1] for index in samples] # Get the item column indices\n",
    "    training_set[user_inds, item_inds] = 0 # Assign all of the randomly chosen user-item pairs to zero\n",
    "    training_set.eliminate_zeros() # Get rid of zeros in sparse array storage after update to save space\n",
    "    return training_set, test_set, list(set(user_inds)) # Output the unique list of user rows that were altered  "
   ]
  },
  {
   "cell_type": "code",
   "execution_count": 7,
   "metadata": {},
   "outputs": [],
   "source": [
    "product_train, product_test, product_users_altered = make_train(purchases_sparse, pct_test = 0.2)"
   ]
  },
  {
   "cell_type": "code",
   "execution_count": 8,
   "metadata": {},
   "outputs": [
    {
     "data": {
      "text/html": [
       "<div>\n",
       "<style scoped>\n",
       "    .dataframe tbody tr th:only-of-type {\n",
       "        vertical-align: middle;\n",
       "    }\n",
       "\n",
       "    .dataframe tbody tr th {\n",
       "        vertical-align: top;\n",
       "    }\n",
       "\n",
       "    .dataframe thead th {\n",
       "        text-align: right;\n",
       "    }\n",
       "</style>\n",
       "<table border=\"1\" class=\"dataframe\">\n",
       "  <thead>\n",
       "    <tr style=\"text-align: right;\">\n",
       "      <th></th>\n",
       "      <th>StockCode</th>\n",
       "      <th>Description</th>\n",
       "    </tr>\n",
       "  </thead>\n",
       "  <tbody>\n",
       "    <tr>\n",
       "      <th>0</th>\n",
       "      <td>85123A</td>\n",
       "      <td>WHITE HANGING HEART T-LIGHT HOLDER</td>\n",
       "    </tr>\n",
       "    <tr>\n",
       "      <th>1</th>\n",
       "      <td>71053</td>\n",
       "      <td>WHITE METAL LANTERN</td>\n",
       "    </tr>\n",
       "    <tr>\n",
       "      <th>2</th>\n",
       "      <td>84406B</td>\n",
       "      <td>CREAM CUPID HEARTS COAT HANGER</td>\n",
       "    </tr>\n",
       "    <tr>\n",
       "      <th>3</th>\n",
       "      <td>84029G</td>\n",
       "      <td>KNITTED UNION FLAG HOT WATER BOTTLE</td>\n",
       "    </tr>\n",
       "    <tr>\n",
       "      <th>4</th>\n",
       "      <td>84029E</td>\n",
       "      <td>RED WOOLLY HOTTIE WHITE HEART.</td>\n",
       "    </tr>\n",
       "  </tbody>\n",
       "</table>\n",
       "</div>"
      ],
      "text/plain": [
       "  StockCode                          Description\n",
       "0    85123A   WHITE HANGING HEART T-LIGHT HOLDER\n",
       "1     71053                  WHITE METAL LANTERN\n",
       "2    84406B       CREAM CUPID HEARTS COAT HANGER\n",
       "3    84029G  KNITTED UNION FLAG HOT WATER BOTTLE\n",
       "4    84029E       RED WOOLLY HOTTIE WHITE HEART."
      ]
     },
     "execution_count": 8,
     "metadata": {},
     "output_type": "execute_result"
    }
   ],
   "source": [
    "item_lookup = pd.read_csv('cvs_data_file/item_lookup.csv', header = 0)\n",
    "item_lookup.head()"
   ]
  },
  {
   "cell_type": "code",
   "execution_count": 9,
   "metadata": {},
   "outputs": [
    {
     "name": "stderr",
     "output_type": "stream",
     "text": [
      "C:\\Users\\Office\\Anaconda3\\lib\\site-packages\\lightfm\\_lightfm_fast.py:9: UserWarning: LightFM was compiled without OpenMP support. Only a single thread will be used.\n",
      "  warnings.warn('LightFM was compiled without OpenMP support. '\n"
     ]
    },
    {
     "name": "stdout",
     "output_type": "stream",
     "text": [
      "Precision: train 0.28, test 0.36.\n",
      "AUC: train 0.92, test 0.91.\n"
     ]
    }
   ],
   "source": [
    "from lightfm import LightFM\n",
    "from lightfm.evaluation import precision_at_k,auc_score\n",
    "\n",
    "\n",
    "# Instantiate and train the model\n",
    "model = LightFM(loss='warp')\n",
    "model.fit(product_train, epochs=40, num_threads=2)\n",
    "\n",
    "# Evaluate the trained model\n",
    "test_precision = precision_at_k(model,product_test, k=5).mean()\n",
    "train_precision = precision_at_k(model, product_train, k=10).mean()\n",
    "\n",
    "train_auc = auc_score(model, product_train).mean()\n",
    "test_auc = auc_score(model, product_test).mean()\n",
    "\n",
    "print('Precision: train %.2f, test %.2f.' % (train_precision, test_precision))\n",
    "print('AUC: train %.2f, test %.2f.' % (train_auc, test_auc))\n"
   ]
  },
  {
   "cell_type": "code",
   "execution_count": 11,
   "metadata": {},
   "outputs": [
    {
     "name": "stdout",
     "output_type": "stream",
     "text": [
      "                              Description\n",
      "72            60 TEATIME FAIRY CAKE CASES\n",
      "154          CHRISTMAS LIGHTS 10 REINDEER\n",
      "155      VINTAGE UNION JACK CUSHION COVER\n",
      "157                RED RETROSPOT UMBRELLA\n",
      "169       DISCO BALL CHRISTMAS DECORATION\n",
      "170                  SMALL POPCORN HOLDER\n",
      "171                 LARGE POPCORN HOLDER \n",
      "172   SET/20 RED RETROSPOT PAPER NAPKINS \n",
      "242                   BATHROOM METAL SIGN\n",
      "243                    KITCHEN METAL SIGN\n",
      "244                     TOILET METAL SIGN\n",
      "330               CHILDREN'S SPACEBOY MUG\n",
      "331                 FELTCRAFT CUSHION OWL\n",
      "518            CINAMMON SET OF 9 T-LIGHTS\n",
      "519         ORANGE SCENTED SET/9 T-LIGHTS\n",
      "520           RIBBON REEL STRIPES DESIGN \n",
      "579                     HERB MARKER THYME\n",
      "641            3 HOOK HANGER MAGIC GARDEN\n",
      "692                 MINI JIGSAW DINOSAUR \n",
      "777     SET OF SALT AND PEPPER TOADSTOOLS\n",
      "778          HOOK, 1 HANGER ,MAGIC GARDEN\n",
      "789            SKULLS AND CROSSBONES WRAP\n",
      "830         SET OF 4 FAIRY CAKE PLACEMATS\n",
      "832           OFFICE MUG WARMER CHOC+BLUE\n",
      "836        RED STRIPE CERAMIC DRAWER KNOB\n",
      "1028  SET3 BOOK BOX GREEN GINGHAM FLOWER \n",
      "1056   DO NOT TOUCH MY STUFF DOOR HANGER \n",
      "1061       HEART DECORATION PAINTED ZINC \n",
      "1139     SET OF 36 PAISLEY FLOWER DOILIES\n",
      "1140                   SPACEBOY GIFT WRAP\n",
      "1141     BLUE GLASS CHUNKY CHARM BRACELET\n",
      "1142        BLACK+WHITE NECKLACE W TASSEL\n",
      "1143     AMBER CHUNKY GLASS+BEAD NECKLACE\n",
      "1148       PINK FLOWER CROCHET FOOD COVER\n",
      "1150           FOOD/DRINK SPONGE STICKERS\n",
      "1151         PINK HEART SHAPE PHOTO FRAME\n",
      "1152       LILAC DIAMANTE PEN IN GIFT BOX\n",
      "1153      SILVER DIAMANTE PEN IN GIFT BOX\n",
      "1154         BLUE JUICY FRUIT PHOTO FRAME\n",
      "1155        GREEN JUICY FRUIT PHOTO FRAME\n",
      "1156              GLITTER BUTTERFLY CLIPS\n",
      "1157             ASSORTED CREEPY CRAWLIES\n",
      "1159         BASKET OF FLOWERS SEWING KIT\n",
      "1160      ANTIQUE SILVER TEA GLASS ETCHED \n",
      " ######################################\n",
      "                              Description\n",
      "157                RED RETROSPOT UMBRELLA\n",
      "34    ROUND SNACK BOXES SET OF4 WOODLAND \n",
      "243                    KITCHEN METAL SIGN\n",
      "888                  TOAST ITS - BEST MUM\n",
      "518            CINAMMON SET OF 9 T-LIGHTS\n",
      "579                     HERB MARKER THYME\n",
      "296             HEART IVORY TRELLIS LARGE\n",
      "1135               LOVE HEART NAPKIN BOX \n",
      "244                     TOILET METAL SIGN\n",
      "452           RETROSPOT BABUSHKA DOORSTOP\n",
      "887      PINK BLUE FELT CRAFT TRINKET BOX\n",
      "154          CHRISTMAS LIGHTS 10 REINDEER\n",
      "182     PACK OF 12 RED RETROSPOT TISSUES \n",
      "215            PINK DOUGHNUT TRINKET POT \n",
      "172   SET/20 RED RETROSPOT PAPER NAPKINS \n",
      "1315    GLITTER HEART GARLAND WITH BELLS \n",
      "155      VINTAGE UNION JACK CUSHION COVER\n",
      "44                MINI PAINT SET VINTAGE \n",
      "1157             ASSORTED CREEPY CRAWLIES\n",
      "747        CHRISTMAS RETROSPOT ANGEL WOOD\n",
      "528              BLACK RECORD COVER FRAME\n",
      "526            CHRISTMAS DECOUPAGE CANDLE\n",
      "1475          3 ROSE MORRIS BOXED CANDLES\n",
      "65          SET/6 RED SPOTTY PAPER PLATES\n",
      "1140                   SPACEBOY GIFT WRAP\n",
      "169       DISCO BALL CHRISTMAS DECORATION\n",
      "290           PACK OF 72 SKULL CAKE CASES\n",
      "520           RIBBON REEL STRIPES DESIGN \n",
      "1394    RED RETROSPOT TEA CUP AND SAUCER \n",
      "1453          MOUSE TOY WITH PINK T-SHIRT\n",
      "...                                   ...\n",
      "2472             VINTAGE WOODEN BAR STOOL\n",
      "2509    TURQUOISE HEART OF GLASS BRACELET\n",
      "2234             PINK STITCHED WALL CLOCK\n",
      "3189              FRENCH CARRIAGE LANTERN\n",
      "1689       PORCELAIN BUTTERFLY OIL BURNER\n",
      "2510        GREEN HEART OF GLASS BRACELET\n",
      "2655       SMALL CHUNKY GLASS ROMAN  BOWL\n",
      "2564             FRYING PAN RED POLKADOT \n",
      "3042           CRACKED GLAZE NECKLACE RED\n",
      "2216           NUMBER TILE VINTAGE FONT 7\n",
      "1297     DINOSAUR PARTY BAG + STICKER SET\n",
      "2656          GLASS CHALICE GREEN  LARGE \n",
      "2440                 FLOWERS TILE COASTER\n",
      "2664      EAU DE NILE JEWELLED PHOTOFRAME\n",
      "1508           CAST IRON HOOK GARDEN FORK\n",
      "2665             A4 WALL TIDY RED FLOWERS\n",
      "2662       BLUE CUSHION COVER WITH FLOWER\n",
      "2467    BLUE SCOTTIE DOG W FLOWER PATTERN\n",
      "798         CUSHION COVER PINK UNION JACK\n",
      "2400         WHITE HEART CONFETTI IN TUBE\n",
      "2601  DIAMANTE HEART SHAPED WALL MIRROR, \n",
      "3169     FIRE POLISHED GLASS BRACELET RED\n",
      "2649   LONG SILVER NECKLACE PASTEL FLOWER\n",
      "1295          UNION STRIPE CUSHION COVER \n",
      "1664        BROWN  PIRATE TREASURE CHEST \n",
      "1987       SET/4 SPRING FLOWER DECORATION\n",
      "2489             SET/6 COLLAGE PAPER CUPS\n",
      "2391         MIRRORED WALL ART TABLE LAMP\n",
      "1296              KEY CABINET MA CAMPAGNE\n",
      "2471         ANTIQUE CREAM CUTLERY SHELF \n",
      "\n",
      "[3664 rows x 1 columns]\n"
     ]
    }
   ],
   "source": [
    "def display_recommended_items(model, data, user_ids):\n",
    "    \n",
    "    n_users, n_items = data.shape\n",
    "\n",
    "    for id in user_ids:\n",
    "\n",
    "        known_positives = item_lookup['Description'][product_train.tocsr()[id].indices]\n",
    "        known_positives_df = pd.DataFrame(data=known_positives)\n",
    "        print(known_positives_df,'\\n','######################################')            \n",
    "       \n",
    "        scores = model.predict(id, np.arange(n_items))\n",
    "\n",
    "        top_items = item_lookup['Description'][np.argsort(-scores)]\n",
    "        df = pd.DataFrame(data=top_items)\n",
    "        print(df)            \n",
    "            \n",
    "\n",
    "display_recommended_items(model, product_train, [34])\n"
   ]
  }
 ],
 "metadata": {
  "kernelspec": {
   "display_name": "Python 3",
   "language": "python",
   "name": "python3"
  },
  "language_info": {
   "codemirror_mode": {
    "name": "ipython",
    "version": 3
   },
   "file_extension": ".py",
   "mimetype": "text/x-python",
   "name": "python",
   "nbconvert_exporter": "python",
   "pygments_lexer": "ipython3",
   "version": "3.6.5"
  }
 },
 "nbformat": 4,
 "nbformat_minor": 2
}
